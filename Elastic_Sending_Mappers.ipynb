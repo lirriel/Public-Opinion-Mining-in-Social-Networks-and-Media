{
 "cells": [
  {
   "cell_type": "code",
   "execution_count": 143,
   "metadata": {},
   "outputs": [],
   "source": [
    "import json\n",
    "import os\n",
    "from elasticsearch import Elasticsearch\n",
    "import time\n",
    "import datetime"
   ]
  },
  {
   "cell_type": "code",
   "execution_count": 62,
   "metadata": {},
   "outputs": [],
   "source": [
    "es = Elasticsearch(['LINK_TO_ELASTIC'])"
   ]
  },
  {
   "cell_type": "code",
   "execution_count": 63,
   "metadata": {},
   "outputs": [
    {
     "data": {
      "text/plain": [
       "True"
      ]
     },
     "execution_count": 63,
     "metadata": {},
     "output_type": "execute_result"
    }
   ],
   "source": [
    "es.ping()"
   ]
  },
  {
   "cell_type": "code",
   "execution_count": 64,
   "metadata": {},
   "outputs": [],
   "source": [
    "def send_json(content):\n",
    "    for r in content['GraphImages']:\n",
    "        location = ({} if r.get('location', {}) is None else r.get('location', {})).get('address_json', None)\n",
    "        if location is not None:\n",
    "            location = json.loads(location)\n",
    "        doc = {\n",
    "            'id': r['id'],\n",
    "            'owner_id': r.get('owner_id', None),\n",
    "            'location': location,\n",
    "            'likes': r.get('edge_liked_by', {}).get('count', None),\n",
    "            'taken_at_timestamp': r['taken_at_timestamp'] * 1000,\n",
    "            'tags': r.get('tags', []),\n",
    "            'edge_media_to_caption': r['edge_media_to_caption'],\n",
    "            'edge_media_to_comment': {\n",
    "                'count': r['edge_media_to_comment']['count'],\n",
    "                'data': {\n",
    "                    'text': [t['text'] for t in r['edge_media_to_comment'].get('data', [])]\n",
    "                }\n",
    "            }\n",
    "        }\n",
    "\n",
    "        es.index(index='instagram', body=doc, id=r['id'])"
   ]
  },
  {
   "cell_type": "code",
   "execution_count": 65,
   "metadata": {},
   "outputs": [],
   "source": [
    "output = [dI for dI in os.listdir('scraper') if os.path.isdir(os.path.join('scraper',dI)) and dI != '.idea' and dI != 'venv']"
   ]
  },
  {
   "cell_type": "code",
   "execution_count": 66,
   "metadata": {
    "scrolled": true
   },
   "outputs": [
    {
     "name": "stdout",
     "output_type": "stream",
     "text": [
      "loading feminismo\n",
      "loading timesupnow\n",
      "loading effyourbeautystandards\n",
      "loading bumble\n",
      "loading iwillgoout\n",
      "loading prochoice\n",
      "loading bringbackourgirls\n",
      "loading whyididntreport\n",
      "loading heforshe\n",
      "loading womensreality\n",
      "loading whyistayed\n",
      "loading girlpower\n",
      "loading iamanastywoman\n",
      "loading makerswomen\n",
      "loading yesallwomen\n",
      "loading selflove\n",
      "loading fem2\n",
      "loading girlboss\n",
      "loading feminist\n",
      "loading believesurvivors\n",
      "loading generationequality\n",
      "loading gurlstalk\n",
      "loading womensrights\n",
      "loading intersectionalfeminism\n",
      "loading feministart\n",
      "loading women\n",
      "loading sadgirlsclub\n",
      "loading womensupportingwomen\n",
      "loading equality\n",
      "loading lgbt\n",
      "loading womensmarch\n",
      "loading ocasio2018\n",
      "loading activist\n",
      "loading strongwomen\n",
      "loading womenempowerment\n",
      "loading genderequality\n",
      "loading humanrights\n",
      "loading equalrights\n",
      "loading womenshould\n",
      "loading feminista\n",
      "loading metoo\n",
      "loading thefutureisfemale\n",
      "loading tothegirls\n",
      "loading feminism\n",
      "loading iamwithher\n",
      "loading niunamenos\n",
      "loading believewomen\n",
      "loading timesup\n",
      "loading woman\n",
      "loading nomoore\n"
     ]
    }
   ],
   "source": [
    "for file in output:\n",
    "    print(f'loading {file}')\n",
    "    filename = 'scraper/' + file + '/' + file + '.json'\n",
    "    with open(filename) as f:\n",
    "        c = json.load(f)\n",
    "        send_json(c)"
   ]
  },
  {
   "cell_type": "code",
   "execution_count": null,
   "metadata": {},
   "outputs": [],
   "source": []
  },
  {
   "cell_type": "code",
   "execution_count": 53,
   "metadata": {},
   "outputs": [],
   "source": [
    "instagram_mapping = {\n",
    "  \"mappings\": {\n",
    "    \"dynamic\": False,\n",
    "      \"date_detection\": False, \n",
    "    \"properties\": {\n",
    "        \"id\": {\n",
    "            \"type\": \"keyword\"\n",
    "        },\n",
    "        \"owner_id\": {\n",
    "            \"type\": \"keyword\"\n",
    "        },\n",
    "        \"location\": {\n",
    "            \"properties\": {\n",
    "                \"street_address\": {\n",
    "                    \"type\": \"text\",\n",
    "                    \"fields\": {\n",
    "                      \"raw\": { \n",
    "                        \"analyzer\": \"english\",\n",
    "                        \"index\": True,\n",
    "                        \"search_analyzer\": \"english\",\n",
    "                        \"type\": \"text\"\n",
    "                      }\n",
    "                    }\n",
    "                },\n",
    "                \"zip_code\": {\n",
    "                    \"type\": \"text\",\n",
    "                    \"fields\": {\n",
    "                      \"raw\": { \n",
    "                        \"analyzer\": \"english\",\n",
    "                        \"index\": True,\n",
    "                        \"search_analyzer\": \"english\",\n",
    "                        \"type\": \"text\"\n",
    "                      }\n",
    "                    }\n",
    "                },\n",
    "                \"city_name\": {\n",
    "                    \"type\": \"text\",\n",
    "                    \"fields\": {\n",
    "                      \"raw\": { \n",
    "                        \"analyzer\": \"english\",\n",
    "                        \"index\": True,\n",
    "                        \"search_analyzer\": \"english\",\n",
    "                        \"type\": \"text\"\n",
    "                      }\n",
    "                    }\n",
    "                },\n",
    "                \"region_name\": {\n",
    "                    \"type\": \"text\",\n",
    "                    \"fields\": {\n",
    "                      \"raw\": { \n",
    "                        \"analyzer\": \"english\",\n",
    "                        \"index\": True,\n",
    "                        \"search_analyzer\": \"english\",\n",
    "                        \"type\": \"text\"\n",
    "                      }\n",
    "                    }\n",
    "                },\n",
    "                \"country_code\": {\n",
    "                    \"type\": \"text\",\n",
    "                    \"fields\": {\n",
    "                      \"raw\": { \n",
    "                        \"analyzer\": \"english\",\n",
    "                        \"index\": True,\n",
    "                        \"search_analyzer\": \"english\",\n",
    "                        \"type\": \"text\"\n",
    "                      }\n",
    "                    }\n",
    "                },\n",
    "                \"exact_city_match\": {\n",
    "                    \"type\": \"boolean\"\n",
    "                },\n",
    "                \"exact_region_match\": {\n",
    "                    \"type\": \"boolean\"\n",
    "                },\n",
    "                \"exact_country_match\": {\n",
    "                    \"type\": \"boolean\"\n",
    "                }\n",
    "            }\n",
    "        },\n",
    "        \"likes\": {\n",
    "            \"type\": \"integer\"\n",
    "        },\n",
    "        \"taken_at_timestamp\": {\n",
    "              \"type\": \"date\"\n",
    "        },\n",
    "        \"tags\": {\n",
    "            \"type\": \"keyword\",\n",
    "        },\n",
    "        \"edge_media_to_caption\": {\n",
    "            \"properties\": {\n",
    "                \"edges\": {\n",
    "                    \"properties\": {\n",
    "                        \"node\": {\n",
    "                            \"properties\": {\n",
    "                                \"text\": {\n",
    "                                    \"analyzer\": \"english\",\n",
    "                                    \"index\": True,\n",
    "                                    \"search_analyzer\": \"english\",\n",
    "                                    \"type\": \"text\"\n",
    "                                }\n",
    "                            }\n",
    "                        }\n",
    "                    }\n",
    "                },\n",
    "            },\n",
    "        },\n",
    "        \"edge_media_to_comment\": {\n",
    "            \"properties\": {\n",
    "                \"count\": {\n",
    "                    \"type\": \"integer\"\n",
    "                },\n",
    "                \"data\": {\n",
    "                    \"properties\": {\n",
    "                        \"text\": {\n",
    "                           \n",
    "                                \"analyzer\": \"english\",\n",
    "                                \"index\": True,\n",
    "                                \"search_analyzer\": \"english\",\n",
    "                                \"type\": \"text\"\n",
    "                        }\n",
    "                    }\n",
    "                }\n",
    "            }\n",
    "        }\n",
    "    }\n",
    "  }\n",
    "}"
   ]
  },
  {
   "cell_type": "code",
   "execution_count": 54,
   "metadata": {},
   "outputs": [
    {
     "data": {
      "text/plain": [
       "{'acknowledged': True}"
      ]
     },
     "execution_count": 54,
     "metadata": {},
     "output_type": "execute_result"
    }
   ],
   "source": [
    "# es.indices.delete('instagram')"
   ]
  },
  {
   "cell_type": "code",
   "execution_count": 55,
   "metadata": {},
   "outputs": [],
   "source": [
    "response = es.indices.create(\n",
    "    index=\"instagram\",\n",
    "    body=instagram_mapping,\n",
    "    ignore=400 # ignore 400 already exists code\n",
    ")"
   ]
  },
  {
   "cell_type": "code",
   "execution_count": 56,
   "metadata": {},
   "outputs": [
    {
     "data": {
      "text/plain": [
       "{'acknowledged': True, 'shards_acknowledged': True, 'index': 'instagram'}"
      ]
     },
     "execution_count": 56,
     "metadata": {},
     "output_type": "execute_result"
    }
   ],
   "source": [
    "response"
   ]
  },
  {
   "cell_type": "code",
   "execution_count": 82,
   "metadata": {},
   "outputs": [
    {
     "name": "stdout",
     "output_type": "stream",
     "text": [
      "{'_index': 'instagram', '_type': '_doc', '_id': '2207630431050817969', '_version': 7, 'result': 'updated', '_shards': {'total': 2, 'successful': 2, 'failed': 0}, '_seq_no': 204, '_primary_term': 1}\n",
      "{'_index': 'instagram', '_type': '_doc', '_id': '2277798049709643340', '_version': 3, 'result': 'updated', '_shards': {'total': 2, 'successful': 2, 'failed': 0}, '_seq_no': 205, '_primary_term': 1}\n",
      "{'_index': 'instagram', '_type': '_doc', '_id': '2263533628881143642', '_version': 3, 'result': 'updated', '_shards': {'total': 2, 'successful': 2, 'failed': 0}, '_seq_no': 206, '_primary_term': 1}\n",
      "{'_index': 'instagram', '_type': '_doc', '_id': '2288925573747425943', '_version': 3, 'result': 'updated', '_shards': {'total': 2, 'successful': 2, 'failed': 0}, '_seq_no': 207, '_primary_term': 1}\n",
      "{'_index': 'instagram', '_type': '_doc', '_id': '2263250417821803656', '_version': 3, 'result': 'updated', '_shards': {'total': 2, 'successful': 2, 'failed': 0}, '_seq_no': 208, '_primary_term': 1}\n",
      "{'_index': 'instagram', '_type': '_doc', '_id': '2277132162291855816', '_version': 3, 'result': 'updated', '_shards': {'total': 2, 'successful': 2, 'failed': 0}, '_seq_no': 209, '_primary_term': 1}\n",
      "{'_index': 'instagram', '_type': '_doc', '_id': '2281655392889335469', '_version': 3, 'result': 'updated', '_shards': {'total': 2, 'successful': 2, 'failed': 0}, '_seq_no': 210, '_primary_term': 1}\n",
      "{'_index': 'instagram', '_type': '_doc', '_id': '2258972261212353773', '_version': 3, 'result': 'updated', '_shards': {'total': 2, 'successful': 2, 'failed': 0}, '_seq_no': 211, '_primary_term': 1}\n",
      "{'_index': 'instagram', '_type': '_doc', '_id': '2298200439517921853', '_version': 3, 'result': 'updated', '_shards': {'total': 2, 'successful': 2, 'failed': 0}, '_seq_no': 212, '_primary_term': 1}\n",
      "{'_index': 'instagram', '_type': '_doc', '_id': '2305359686118841795', '_version': 3, 'result': 'updated', '_shards': {'total': 2, 'successful': 2, 'failed': 0}, '_seq_no': 213, '_primary_term': 1}\n",
      "{'_index': 'instagram', '_type': '_doc', '_id': '2305355978052018324', '_version': 3, 'result': 'updated', '_shards': {'total': 2, 'successful': 2, 'failed': 0}, '_seq_no': 214, '_primary_term': 1}\n",
      "{'_index': 'instagram', '_type': '_doc', '_id': '2305347841695960338', '_version': 3, 'result': 'updated', '_shards': {'total': 2, 'successful': 2, 'failed': 0}, '_seq_no': 215, '_primary_term': 1}\n",
      "{'_index': 'instagram', '_type': '_doc', '_id': '2305327676658738112', '_version': 3, 'result': 'updated', '_shards': {'total': 2, 'successful': 2, 'failed': 0}, '_seq_no': 216, '_primary_term': 1}\n",
      "{'_index': 'instagram', '_type': '_doc', '_id': '2305308361771769105', '_version': 3, 'result': 'updated', '_shards': {'total': 2, 'successful': 2, 'failed': 0}, '_seq_no': 217, '_primary_term': 1}\n",
      "{'_index': 'instagram', '_type': '_doc', '_id': '2305268601178212401', '_version': 3, 'result': 'updated', '_shards': {'total': 2, 'successful': 2, 'failed': 0}, '_seq_no': 218, '_primary_term': 1}\n",
      "{'_index': 'instagram', '_type': '_doc', '_id': '2305267666687191428', '_version': 3, 'result': 'updated', '_shards': {'total': 2, 'successful': 2, 'failed': 0}, '_seq_no': 219, '_primary_term': 1}\n",
      "{'_index': 'instagram', '_type': '_doc', '_id': '2305263477676348339', '_version': 3, 'result': 'updated', '_shards': {'total': 2, 'successful': 2, 'failed': 0}, '_seq_no': 220, '_primary_term': 1}\n",
      "{'_index': 'instagram', '_type': '_doc', '_id': '2305195474369883613', '_version': 3, 'result': 'updated', '_shards': {'total': 2, 'successful': 2, 'failed': 0}, '_seq_no': 221, '_primary_term': 1}\n",
      "{'_index': 'instagram', '_type': '_doc', '_id': '2305187411256672091', '_version': 3, 'result': 'updated', '_shards': {'total': 2, 'successful': 2, 'failed': 0}, '_seq_no': 222, '_primary_term': 1}\n",
      "{'_index': 'instagram', '_type': '_doc', '_id': '2305118369942460047', '_version': 3, 'result': 'updated', '_shards': {'total': 2, 'successful': 2, 'failed': 0}, '_seq_no': 223, '_primary_term': 1}\n",
      "{'_index': 'instagram', '_type': '_doc', '_id': '2305017045765185432', '_version': 3, 'result': 'updated', '_shards': {'total': 2, 'successful': 2, 'failed': 0}, '_seq_no': 224, '_primary_term': 1}\n",
      "{'_index': 'instagram', '_type': '_doc', '_id': '2305013386050338651', '_version': 3, 'result': 'updated', '_shards': {'total': 2, 'successful': 2, 'failed': 0}, '_seq_no': 225, '_primary_term': 1}\n",
      "{'_index': 'instagram', '_type': '_doc', '_id': '2304909272754223330', '_version': 3, 'result': 'updated', '_shards': {'total': 2, 'successful': 2, 'failed': 0}, '_seq_no': 226, '_primary_term': 1}\n",
      "{'_index': 'instagram', '_type': '_doc', '_id': '2304876971397467635', '_version': 3, 'result': 'updated', '_shards': {'total': 2, 'successful': 2, 'failed': 0}, '_seq_no': 227, '_primary_term': 1}\n",
      "{'_index': 'instagram', '_type': '_doc', '_id': '2304876518395642865', '_version': 3, 'result': 'updated', '_shards': {'total': 2, 'successful': 2, 'failed': 0}, '_seq_no': 228, '_primary_term': 1}\n",
      "{'_index': 'instagram', '_type': '_doc', '_id': '2304876140581266341', '_version': 3, 'result': 'updated', '_shards': {'total': 2, 'successful': 2, 'failed': 0}, '_seq_no': 229, '_primary_term': 1}\n",
      "{'_index': 'instagram', '_type': '_doc', '_id': '2304869061560763888', '_version': 3, 'result': 'updated', '_shards': {'total': 2, 'successful': 2, 'failed': 0}, '_seq_no': 230, '_primary_term': 1}\n",
      "{'_index': 'instagram', '_type': '_doc', '_id': '2304867179207417583', '_version': 3, 'result': 'updated', '_shards': {'total': 2, 'successful': 2, 'failed': 0}, '_seq_no': 231, '_primary_term': 1}\n",
      "{'_index': 'instagram', '_type': '_doc', '_id': '2304864255282539789', '_version': 3, 'result': 'updated', '_shards': {'total': 2, 'successful': 2, 'failed': 0}, '_seq_no': 232, '_primary_term': 1}\n",
      "{'_index': 'instagram', '_type': '_doc', '_id': '2304746451997470210', '_version': 3, 'result': 'updated', '_shards': {'total': 2, 'successful': 2, 'failed': 0}, '_seq_no': 233, '_primary_term': 1}\n",
      "{'_index': 'instagram', '_type': '_doc', '_id': '2304657378762473315', '_version': 3, 'result': 'updated', '_shards': {'total': 2, 'successful': 2, 'failed': 0}, '_seq_no': 234, '_primary_term': 1}\n",
      "{'_index': 'instagram', '_type': '_doc', '_id': '2304647841124273362', '_version': 3, 'result': 'updated', '_shards': {'total': 2, 'successful': 2, 'failed': 0}, '_seq_no': 235, '_primary_term': 1}\n",
      "{'_index': 'instagram', '_type': '_doc', '_id': '2304626925504587949', '_version': 3, 'result': 'updated', '_shards': {'total': 2, 'successful': 2, 'failed': 0}, '_seq_no': 236, '_primary_term': 1}\n",
      "{'_index': 'instagram', '_type': '_doc', '_id': '2304604468363097176', '_version': 3, 'result': 'updated', '_shards': {'total': 2, 'successful': 2, 'failed': 0}, '_seq_no': 237, '_primary_term': 1}\n",
      "{'_index': 'instagram', '_type': '_doc', '_id': '2304567280901928906', '_version': 3, 'result': 'updated', '_shards': {'total': 2, 'successful': 2, 'failed': 0}, '_seq_no': 238, '_primary_term': 1}\n",
      "{'_index': 'instagram', '_type': '_doc', '_id': '2304542615498001987', '_version': 3, 'result': 'updated', '_shards': {'total': 2, 'successful': 2, 'failed': 0}, '_seq_no': 239, '_primary_term': 1}\n",
      "{'_index': 'instagram', '_type': '_doc', '_id': '2304537508815320997', '_version': 3, 'result': 'updated', '_shards': {'total': 2, 'successful': 2, 'failed': 0}, '_seq_no': 240, '_primary_term': 1}\n",
      "{'_index': 'instagram', '_type': '_doc', '_id': '2304492300149023055', '_version': 3, 'result': 'updated', '_shards': {'total': 2, 'successful': 2, 'failed': 0}, '_seq_no': 241, '_primary_term': 1}\n",
      "{'_index': 'instagram', '_type': '_doc', '_id': '2304488248879139655', '_version': 3, 'result': 'updated', '_shards': {'total': 2, 'successful': 2, 'failed': 0}, '_seq_no': 242, '_primary_term': 1}\n",
      "{'_index': 'instagram', '_type': '_doc', '_id': '2304472091196223807', '_version': 3, 'result': 'updated', '_shards': {'total': 2, 'successful': 2, 'failed': 0}, '_seq_no': 243, '_primary_term': 1}\n",
      "{'_index': 'instagram', '_type': '_doc', '_id': '2304472072355515621', '_version': 3, 'result': 'updated', '_shards': {'total': 2, 'successful': 2, 'failed': 0}, '_seq_no': 244, '_primary_term': 1}\n",
      "{'_index': 'instagram', '_type': '_doc', '_id': '2304387757012725579', '_version': 3, 'result': 'updated', '_shards': {'total': 2, 'successful': 2, 'failed': 0}, '_seq_no': 245, '_primary_term': 1}\n",
      "{'_index': 'instagram', '_type': '_doc', '_id': '2304264766874482059', '_version': 3, 'result': 'updated', '_shards': {'total': 2, 'successful': 2, 'failed': 0}, '_seq_no': 246, '_primary_term': 1}\n"
     ]
    },
    {
     "name": "stdout",
     "output_type": "stream",
     "text": [
      "{'_index': 'instagram', '_type': '_doc', '_id': '2304167125272557191', '_version': 3, 'result': 'updated', '_shards': {'total': 2, 'successful': 2, 'failed': 0}, '_seq_no': 247, '_primary_term': 1}\n",
      "{'_index': 'instagram', '_type': '_doc', '_id': '2303946104905077389', '_version': 3, 'result': 'updated', '_shards': {'total': 2, 'successful': 2, 'failed': 0}, '_seq_no': 248, '_primary_term': 1}\n",
      "{'_index': 'instagram', '_type': '_doc', '_id': '2303910839139171234', '_version': 3, 'result': 'updated', '_shards': {'total': 2, 'successful': 2, 'failed': 0}, '_seq_no': 249, '_primary_term': 1}\n",
      "{'_index': 'instagram', '_type': '_doc', '_id': '2303896817269544747', '_version': 3, 'result': 'updated', '_shards': {'total': 2, 'successful': 2, 'failed': 0}, '_seq_no': 250, '_primary_term': 1}\n",
      "{'_index': 'instagram', '_type': '_doc', '_id': '2303878591131193956', '_version': 3, 'result': 'updated', '_shards': {'total': 2, 'successful': 2, 'failed': 0}, '_seq_no': 251, '_primary_term': 1}\n",
      "{'_index': 'instagram', '_type': '_doc', '_id': '2303878188310331508', '_version': 3, 'result': 'updated', '_shards': {'total': 2, 'successful': 2, 'failed': 0}, '_seq_no': 252, '_primary_term': 1}\n",
      "{'_index': 'instagram', '_type': '_doc', '_id': '2303875379612123954', '_version': 3, 'result': 'updated', '_shards': {'total': 2, 'successful': 2, 'failed': 0}, '_seq_no': 253, '_primary_term': 1}\n",
      "{'_index': 'instagram', '_type': '_doc', '_id': '2303857484086225431', '_version': 3, 'result': 'updated', '_shards': {'total': 2, 'successful': 2, 'failed': 0}, '_seq_no': 254, '_primary_term': 1}\n",
      "{'_index': 'instagram', '_type': '_doc', '_id': '2303841170852484926', '_version': 3, 'result': 'updated', '_shards': {'total': 2, 'successful': 2, 'failed': 0}, '_seq_no': 255, '_primary_term': 1}\n",
      "{'_index': 'instagram', '_type': '_doc', '_id': '2303826813985807560', '_version': 3, 'result': 'updated', '_shards': {'total': 2, 'successful': 2, 'failed': 0}, '_seq_no': 256, '_primary_term': 1}\n",
      "{'_index': 'instagram', '_type': '_doc', '_id': '2303817476164510253', '_version': 3, 'result': 'updated', '_shards': {'total': 2, 'successful': 2, 'failed': 0}, '_seq_no': 257, '_primary_term': 1}\n",
      "{'_index': 'instagram', '_type': '_doc', '_id': '2303803591331486079', '_version': 3, 'result': 'updated', '_shards': {'total': 2, 'successful': 2, 'failed': 0}, '_seq_no': 258, '_primary_term': 1}\n",
      "{'_index': 'instagram', '_type': '_doc', '_id': '2303786817304282408', '_version': 3, 'result': 'updated', '_shards': {'total': 2, 'successful': 2, 'failed': 0}, '_seq_no': 259, '_primary_term': 1}\n",
      "{'_index': 'instagram', '_type': '_doc', '_id': '2303778605500677201', '_version': 3, 'result': 'updated', '_shards': {'total': 2, 'successful': 2, 'failed': 0}, '_seq_no': 260, '_primary_term': 1}\n",
      "{'_index': 'instagram', '_type': '_doc', '_id': '2303777364196300298', '_version': 3, 'result': 'updated', '_shards': {'total': 2, 'successful': 2, 'failed': 0}, '_seq_no': 261, '_primary_term': 1}\n",
      "{'_index': 'instagram', '_type': '_doc', '_id': '2303749898184756227', '_version': 3, 'result': 'updated', '_shards': {'total': 2, 'successful': 2, 'failed': 0}, '_seq_no': 262, '_primary_term': 1}\n",
      "{'_index': 'instagram', '_type': '_doc', '_id': '2303740444909099416', '_version': 3, 'result': 'updated', '_shards': {'total': 2, 'successful': 2, 'failed': 0}, '_seq_no': 263, '_primary_term': 1}\n",
      "{'_index': 'instagram', '_type': '_doc', '_id': '2303738969287620919', '_version': 3, 'result': 'updated', '_shards': {'total': 2, 'successful': 2, 'failed': 0}, '_seq_no': 264, '_primary_term': 1}\n",
      "{'_index': 'instagram', '_type': '_doc', '_id': '2303701456137840706', '_version': 3, 'result': 'updated', '_shards': {'total': 2, 'successful': 2, 'failed': 0}, '_seq_no': 265, '_primary_term': 1}\n",
      "{'_index': 'instagram', '_type': '_doc', '_id': '2303634530833354803', '_version': 3, 'result': 'updated', '_shards': {'total': 2, 'successful': 2, 'failed': 0}, '_seq_no': 266, '_primary_term': 1}\n",
      "{'_index': 'instagram', '_type': '_doc', '_id': '2303612534258993062', '_version': 3, 'result': 'updated', '_shards': {'total': 2, 'successful': 2, 'failed': 0}, '_seq_no': 267, '_primary_term': 1}\n",
      "{'_index': 'instagram', '_type': '_doc', '_id': '2303612362676114704', '_version': 3, 'result': 'updated', '_shards': {'total': 2, 'successful': 2, 'failed': 0}, '_seq_no': 268, '_primary_term': 1}\n",
      "{'_index': 'instagram', '_type': '_doc', '_id': '2303547348239720718', '_version': 3, 'result': 'updated', '_shards': {'total': 2, 'successful': 2, 'failed': 0}, '_seq_no': 269, '_primary_term': 1}\n",
      "{'_index': 'instagram', '_type': '_doc', '_id': '2303547212552990289', '_version': 3, 'result': 'updated', '_shards': {'total': 2, 'successful': 2, 'failed': 0}, '_seq_no': 270, '_primary_term': 1}\n",
      "{'_index': 'instagram', '_type': '_doc', '_id': '2303536390620439088', '_version': 3, 'result': 'updated', '_shards': {'total': 2, 'successful': 2, 'failed': 0}, '_seq_no': 271, '_primary_term': 1}\n",
      "{'_index': 'instagram', '_type': '_doc', '_id': '2303527146826916669', '_version': 3, 'result': 'updated', '_shards': {'total': 2, 'successful': 2, 'failed': 0}, '_seq_no': 272, '_primary_term': 1}\n",
      "{'_index': 'instagram', '_type': '_doc', '_id': '2303469339830900508', '_version': 3, 'result': 'updated', '_shards': {'total': 2, 'successful': 2, 'failed': 0}, '_seq_no': 273, '_primary_term': 1}\n",
      "{'_index': 'instagram', '_type': '_doc', '_id': '2303425014904302023', '_version': 3, 'result': 'updated', '_shards': {'total': 2, 'successful': 2, 'failed': 0}, '_seq_no': 274, '_primary_term': 1}\n",
      "{'_index': 'instagram', '_type': '_doc', '_id': '2303371317654972395', '_version': 3, 'result': 'updated', '_shards': {'total': 2, 'successful': 2, 'failed': 0}, '_seq_no': 275, '_primary_term': 1}\n",
      "{'_index': 'instagram', '_type': '_doc', '_id': '2303368374258235394', '_version': 3, 'result': 'updated', '_shards': {'total': 2, 'successful': 2, 'failed': 0}, '_seq_no': 276, '_primary_term': 1}\n",
      "{'_index': 'instagram', '_type': '_doc', '_id': '2303360003534412354', '_version': 3, 'result': 'updated', '_shards': {'total': 2, 'successful': 2, 'failed': 0}, '_seq_no': 277, '_primary_term': 1}\n",
      "{'_index': 'instagram', '_type': '_doc', '_id': '2303311344400890317', '_version': 3, 'result': 'updated', '_shards': {'total': 2, 'successful': 2, 'failed': 0}, '_seq_no': 278, '_primary_term': 1}\n",
      "{'_index': 'instagram', '_type': '_doc', '_id': '2303302708973399466', '_version': 3, 'result': 'updated', '_shards': {'total': 2, 'successful': 2, 'failed': 0}, '_seq_no': 279, '_primary_term': 1}\n",
      "{'_index': 'instagram', '_type': '_doc', '_id': '2303278444429370503', '_version': 3, 'result': 'updated', '_shards': {'total': 2, 'successful': 2, 'failed': 0}, '_seq_no': 280, '_primary_term': 1}\n",
      "{'_index': 'instagram', '_type': '_doc', '_id': '2303276476127792740', '_version': 3, 'result': 'updated', '_shards': {'total': 2, 'successful': 2, 'failed': 0}, '_seq_no': 281, '_primary_term': 1}\n",
      "{'_index': 'instagram', '_type': '_doc', '_id': '2303265174003679459', '_version': 3, 'result': 'updated', '_shards': {'total': 2, 'successful': 2, 'failed': 0}, '_seq_no': 282, '_primary_term': 1}\n",
      "{'_index': 'instagram', '_type': '_doc', '_id': '2303248843910431517', '_version': 3, 'result': 'updated', '_shards': {'total': 2, 'successful': 2, 'failed': 0}, '_seq_no': 283, '_primary_term': 1}\n",
      "{'_index': 'instagram', '_type': '_doc', '_id': '2303229981681377541', '_version': 3, 'result': 'updated', '_shards': {'total': 2, 'successful': 2, 'failed': 0}, '_seq_no': 284, '_primary_term': 1}\n",
      "{'_index': 'instagram', '_type': '_doc', '_id': '2303213924876759497', '_version': 3, 'result': 'updated', '_shards': {'total': 2, 'successful': 2, 'failed': 0}, '_seq_no': 285, '_primary_term': 1}\n",
      "{'_index': 'instagram', '_type': '_doc', '_id': '2303171367530600420', '_version': 3, 'result': 'updated', '_shards': {'total': 2, 'successful': 2, 'failed': 0}, '_seq_no': 286, '_primary_term': 1}\n",
      "{'_index': 'instagram', '_type': '_doc', '_id': '2303086322608663242', '_version': 3, 'result': 'updated', '_shards': {'total': 2, 'successful': 2, 'failed': 0}, '_seq_no': 287, '_primary_term': 1}\n",
      "{'_index': 'instagram', '_type': '_doc', '_id': '2303063344449302198', '_version': 3, 'result': 'updated', '_shards': {'total': 2, 'successful': 2, 'failed': 0}, '_seq_no': 288, '_primary_term': 1}\n",
      "{'_index': 'instagram', '_type': '_doc', '_id': '2303047139562252325', '_version': 3, 'result': 'updated', '_shards': {'total': 2, 'successful': 2, 'failed': 0}, '_seq_no': 289, '_primary_term': 1}\n",
      "{'_index': 'instagram', '_type': '_doc', '_id': '2303019549815982179', '_version': 3, 'result': 'updated', '_shards': {'total': 2, 'successful': 2, 'failed': 0}, '_seq_no': 290, '_primary_term': 1}\n",
      "{'_index': 'instagram', '_type': '_doc', '_id': '2302972132061581104', '_version': 3, 'result': 'updated', '_shards': {'total': 2, 'successful': 2, 'failed': 0}, '_seq_no': 291, '_primary_term': 1}\n",
      "{'_index': 'instagram', '_type': '_doc', '_id': '2302952914446214258', '_version': 3, 'result': 'updated', '_shards': {'total': 2, 'successful': 2, 'failed': 0}, '_seq_no': 292, '_primary_term': 1}\n"
     ]
    },
    {
     "name": "stdout",
     "output_type": "stream",
     "text": [
      "{'_index': 'instagram', '_type': '_doc', '_id': '2302948425644449124', '_version': 3, 'result': 'updated', '_shards': {'total': 2, 'successful': 2, 'failed': 0}, '_seq_no': 293, '_primary_term': 1}\n",
      "{'_index': 'instagram', '_type': '_doc', '_id': '2302940413392518401', '_version': 3, 'result': 'updated', '_shards': {'total': 2, 'successful': 2, 'failed': 0}, '_seq_no': 294, '_primary_term': 1}\n",
      "{'_index': 'instagram', '_type': '_doc', '_id': '2302852355346666888', '_version': 3, 'result': 'updated', '_shards': {'total': 2, 'successful': 2, 'failed': 0}, '_seq_no': 295, '_primary_term': 1}\n",
      "{'_index': 'instagram', '_type': '_doc', '_id': '2302851828030631795', '_version': 3, 'result': 'updated', '_shards': {'total': 2, 'successful': 2, 'failed': 0}, '_seq_no': 296, '_primary_term': 1}\n",
      "{'_index': 'instagram', '_type': '_doc', '_id': '2302842417060447095', '_version': 3, 'result': 'updated', '_shards': {'total': 2, 'successful': 2, 'failed': 0}, '_seq_no': 297, '_primary_term': 1}\n",
      "{'_index': 'instagram', '_type': '_doc', '_id': '2302820654485651454', '_version': 3, 'result': 'updated', '_shards': {'total': 2, 'successful': 2, 'failed': 0}, '_seq_no': 298, '_primary_term': 1}\n",
      "{'_index': 'instagram', '_type': '_doc', '_id': '2302720483216632013', '_version': 3, 'result': 'updated', '_shards': {'total': 2, 'successful': 2, 'failed': 0}, '_seq_no': 299, '_primary_term': 1}\n",
      "{'_index': 'instagram', '_type': '_doc', '_id': '2302695966223932469', '_version': 3, 'result': 'updated', '_shards': {'total': 2, 'successful': 2, 'failed': 0}, '_seq_no': 300, '_primary_term': 1}\n",
      "{'_index': 'instagram', '_type': '_doc', '_id': '2302675136220142237', '_version': 3, 'result': 'updated', '_shards': {'total': 2, 'successful': 2, 'failed': 0}, '_seq_no': 301, '_primary_term': 1}\n",
      "{'_index': 'instagram', '_type': '_doc', '_id': '2302498322449893097', '_version': 3, 'result': 'updated', '_shards': {'total': 2, 'successful': 2, 'failed': 0}, '_seq_no': 302, '_primary_term': 1}\n",
      "{'_index': 'instagram', '_type': '_doc', '_id': '2302474883648443258', '_version': 3, 'result': 'updated', '_shards': {'total': 2, 'successful': 2, 'failed': 0}, '_seq_no': 303, '_primary_term': 1}\n"
     ]
    }
   ],
   "source": [
    "for r in content['GraphImages']:\n",
    "    doc = {\n",
    "        'id': r['id'],\n",
    "        'taken_at_timestamp': r['taken_at_timestamp']*1000,\n",
    "        'tags': r['tags'],\n",
    "        'edge_media_to_caption': r['edge_media_to_caption'],\n",
    "        'edge_media_to_comment': {\n",
    "            'count': r['edge_media_to_comment']['count'],\n",
    "            'data': {\n",
    "                'text': [t['text'] for t in r['edge_media_to_comment']['data']]\n",
    "            }\n",
    "        }\n",
    "    }\n",
    "    \n",
    "    es.index(index='instagram', body=doc, id=r['id'])"
   ]
  },
  {
   "cell_type": "code",
   "execution_count": 119,
   "metadata": {},
   "outputs": [],
   "source": [
    "reddit_mapping = {\n",
    "    \"mappings\": {\n",
    "        \"dynamic\": False,\n",
    "        \"date_detection\": False,\n",
    "        \"properties\": {\n",
    "            \"id\": {\n",
    "                \"type\": \"keyword\"\n",
    "            },\n",
    "            \"title\": {\n",
    "                \"type\": \"keyword\"\n",
    "            },\n",
    "            \"score\": {\n",
    "                \"type\": \"integer\"\n",
    "            },\n",
    "            \"created_utc\": {\n",
    "                \"type\": \"date\"\n",
    "            },\n",
    "            \"num_comments\": {\n",
    "                \"type\": \"integer\"\n",
    "            },\n",
    "            \"author\": {\n",
    "                \"type\": \"keyword\"\n",
    "            },\n",
    "            \"selftext\": {\n",
    "                \"type\": \"keyword\"\n",
    "            },\n",
    "            \"comments\": {\n",
    "                \"properties\": {\n",
    "                    \"body\": {\n",
    "                        \"analyzer\": \"english\",\n",
    "                        \"index\": True,\n",
    "                        \"search_analyzer\": \"english\",\n",
    "                        \"type\": \"text\"\n",
    "                    },\n",
    "                    \"created_utc\": {\n",
    "                        \"type\": \"date\"\n",
    "                    },\n",
    "                    \"id\": {\n",
    "                        \"type\": \"keyword\"\n",
    "                    },\n",
    "                    \"is_submitter\": {\n",
    "                        \"type\": \"boolean\"\n",
    "                    },\n",
    "                    \"link_id\": {\n",
    "                        \"type\": \"keyword\"\n",
    "                    },\n",
    "                    \"parent_id\": {\n",
    "                        \"type\": \"keyword\"\n",
    "                    },\n",
    "                    \"score\": {\n",
    "                        \"type\": \"integer\"\n",
    "                    },\n",
    "                    \"subreddit_id\": {\n",
    "                        \"type\": \"keyword\"\n",
    "                    },\n",
    "                    \"author\": {\n",
    "                        \"properties\": {\n",
    "                            \"name\": {\n",
    "                                \"type\": \"keyword\",\n",
    "                            },\n",
    "                            \"id\":  {\n",
    "                                \"type\": \"keyword\",\n",
    "                            }\n",
    "                        }\n",
    "                    },\n",
    "                    \"comments\": {\n",
    "                        \"properties\": {\n",
    "                            \"body\": {\n",
    "                                \"analyzer\": \"english\",\n",
    "                                \"index\": True,\n",
    "                                \"search_analyzer\": \"english\",\n",
    "                                \"type\": \"text\"\n",
    "                            },\n",
    "                            \"created_utc\": {\n",
    "                                \"type\": \"date\"\n",
    "                            },\n",
    "                            \"id\": {\n",
    "                                \"type\": \"keyword\"\n",
    "                            },\n",
    "                            \"is_submitter\": {\n",
    "                                \"type\": \"boolean\"\n",
    "                            },\n",
    "                            \"link_id\": {\n",
    "                                \"type\": \"keyword\"\n",
    "                            },\n",
    "                            \"parent_id\": {\n",
    "                                \"type\": \"keyword\"\n",
    "                            },\n",
    "                            \"score\": {\n",
    "                                \"type\": \"integer\"\n",
    "                            },\n",
    "                            \"subreddit_id\": {\n",
    "                                \"type\": \"keyword\"\n",
    "                            },\n",
    "                            \"author\": {\n",
    "                                \"properties\": {\n",
    "                                    \"name\": {\n",
    "                                        \"type\": \"keyword\",\n",
    "                                    },\n",
    "                                    \"id\": {\n",
    "                                        \"type\": \"keyword\",\n",
    "                                    }\n",
    "                                }\n",
    "                            },\n",
    "                            \"comments\": {\n",
    "                                \"properties\": {\n",
    "                                    \"body\": {\n",
    "                                        \"analyzer\": \"english\",\n",
    "                                        \"index\": True,\n",
    "                                        \"search_analyzer\": \"english\",\n",
    "                                        \"type\": \"text\"\n",
    "                                    },\n",
    "                                    \"created_utc\": {\n",
    "                                        \"type\": \"date\"\n",
    "                                    },\n",
    "                                    \"id\": {\n",
    "                                        \"type\": \"keyword\"\n",
    "                                    },\n",
    "                                    \"is_submitter\": {\n",
    "                                        \"type\": \"boolean\"\n",
    "                                    },\n",
    "                                    \"link_id\": {\n",
    "                                        \"type\": \"keyword\"\n",
    "                                    },\n",
    "                                    \"parent_id\": {\n",
    "                                        \"type\": \"keyword\"\n",
    "                                    },\n",
    "                                    \"score\": {\n",
    "                                        \"type\": \"integer\"\n",
    "                                    },\n",
    "                                    \"subreddit_id\": {\n",
    "                                        \"type\": \"keyword\"\n",
    "                                    },\n",
    "                                    \"author\": {\n",
    "                                        \"properties\": {\n",
    "                                            \"name\": {\n",
    "                                                \"type\": \"keyword\",\n",
    "                                            },\n",
    "                                            \"id\": {\n",
    "                                                \"type\": \"keyword\",\n",
    "                                            }\n",
    "                                        }\n",
    "                                    }\n",
    "                                }\n",
    "                            }\n",
    "                        },\n",
    "\n",
    "                    }\n",
    "                },\n",
    "            },\n",
    "        }\n",
    "    }\n",
    "}"
   ]
  },
  {
   "cell_type": "code",
   "execution_count": 120,
   "metadata": {},
   "outputs": [],
   "source": [
    "response = es.indices.create(\n",
    "    index=\"reddit\",\n",
    "    body=reddit_mapping,\n",
    "    ignore=400 # ignore 400 already exists code\n",
    ")"
   ]
  },
  {
   "cell_type": "code",
   "execution_count": 121,
   "metadata": {},
   "outputs": [
    {
     "data": {
      "text/plain": [
       "{'acknowledged': True, 'shards_acknowledged': True, 'index': 'reddit'}"
      ]
     },
     "execution_count": 121,
     "metadata": {},
     "output_type": "execute_result"
    }
   ],
   "source": [
    "response"
   ]
  },
  {
   "cell_type": "code",
   "execution_count": 122,
   "metadata": {},
   "outputs": [],
   "source": [
    "def send_reddit_json(content):\n",
    "    for r in content:\n",
    "        r['url'] = r.get('url', '')\n",
    "        del r['url']\n",
    "        r['created_utc'] = int(r.get('created_utc', 0) * 1000)\n",
    "        for c in r.get('comments', []):\n",
    "            c['created_utc'] = int(c.get('created_utc', 0) * 1000)\n",
    "            del c['is_submitter']\n",
    "            del c['link_id']\n",
    "            del c['parent_id']\n",
    "            del c['subreddit_id']\n",
    "            del c['comments']\n",
    "#             for cc in c['comments']:\n",
    "#                 if cc['id'] != c['id']:\n",
    "#                     del cc['is_submitter']\n",
    "#                     del cc['link_id']\n",
    "#                     del cc['parent_id']\n",
    "#                     del cc['subreddit_id']\n",
    "#                     cc['created_utc'] = int(cc['created_utc'] * 1000)\n",
    "#         print(len(json.dumps(r)))\n",
    "        resp = es.index(index='reddit', body=r, id=r['id'])\n",
    "#         print(f'Send {resp}')"
   ]
  },
  {
   "cell_type": "code",
   "execution_count": 123,
   "metadata": {},
   "outputs": [],
   "source": [
    "reddit_output = [dI for dI in os.listdir('scraper') if not os.path.isdir(os.path.join('scraper',dI)) \\\n",
    "                 and not dI.startswith('twitter') and dI.endswith('json')]\n"
   ]
  },
  {
   "cell_type": "code",
   "execution_count": 125,
   "metadata": {},
   "outputs": [],
   "source": [
    "reddit_output = ['TheGirlSurvivalGuide.json',\n",
    " 'GirlsGoneWired.json',\n",
    " 'feminism.json',\n",
    " 'antifeminists.json',\n",
    " 'femmethoughts.json',\n",
    " 'GirlGamers.json',\n",
    " 'scientits.json',\n",
    " 'BreadTube.json',\n",
    " 'blackladies.json',\n",
    " 'NotHowGirlsWork.json',\n",
    " 'ContraPoints.json',\n",
    " 'FemaleDatingStrategy.json',\n",
    " 'women.json',\n",
    " 'WitchesVsPatriarchy.json']"
   ]
  },
  {
   "cell_type": "code",
   "execution_count": 126,
   "metadata": {
    "scrolled": true
   },
   "outputs": [
    {
     "name": "stdout",
     "output_type": "stream",
     "text": [
      "TheGirlSurvivalGuide.json\n",
      "GirlsGoneWired.json\n",
      "feminism.json\n",
      "antifeminists.json\n",
      "femmethoughts.json\n",
      "GirlGamers.json\n",
      "scientits.json\n",
      "BreadTube.json\n",
      "blackladies.json\n",
      "NotHowGirlsWork.json\n",
      "ContraPoints.json\n",
      "FemaleDatingStrategy.json\n",
      "women.json\n",
      "WitchesVsPatriarchy.json\n"
     ]
    }
   ],
   "source": [
    "for r in reddit_output:\n",
    "    print(r)\n",
    "    filename = 'scraper/' + r\n",
    "    with open(filename) as f:\n",
    "        c = json.load(f)\n",
    "        send_reddit_json(c)"
   ]
  },
  {
   "cell_type": "code",
   "execution_count": 127,
   "metadata": {},
   "outputs": [],
   "source": [
    "filename = 'Feminism_1_subreddit.json'\n",
    "with open(filename) as f:\n",
    "    c = json.load(f)\n",
    "    send_reddit_json(c)"
   ]
  },
  {
   "cell_type": "code",
   "execution_count": 128,
   "metadata": {},
   "outputs": [],
   "source": [
    "filename = 'feminism_subreddit.json'\n",
    "with open(filename) as f:\n",
    "    c = json.load(f)\n",
    "    send_reddit_json(c)"
   ]
  },
  {
   "cell_type": "code",
   "execution_count": 129,
   "metadata": {},
   "outputs": [],
   "source": [
    "filename = 'feminisms_subreddit.json'\n",
    "with open(filename) as f:\n",
    "    c = json.load(f)\n",
    "    send_reddit_json(c)"
   ]
  },
  {
   "cell_type": "code",
   "execution_count": 130,
   "metadata": {},
   "outputs": [],
   "source": [
    "filename = 'GenderCritical_subreddit.json'\n",
    "with open(filename) as f:\n",
    "    c = json.load(f)\n",
    "    send_reddit_json(c)"
   ]
  },
  {
   "cell_type": "code",
   "execution_count": 131,
   "metadata": {},
   "outputs": [],
   "source": [
    "filename = 'TwoXChromosomes_subreddit.json'\n",
    "with open(filename) as f:\n",
    "    c = json.load(f)\n",
    "    send_reddit_json(c)"
   ]
  },
  {
   "cell_type": "code",
   "execution_count": 132,
   "metadata": {},
   "outputs": [],
   "source": [
    "filename = 'TwoXChromosomes.json'\n",
    "with open(filename) as f:\n",
    "    c = json.load(f)\n",
    "    send_reddit_json(c)"
   ]
  },
  {
   "cell_type": "code",
   "execution_count": 133,
   "metadata": {},
   "outputs": [],
   "source": [
    "twitter_mapping = {\n",
    "  \"mappings\": {\n",
    "    \"dynamic\": False,\n",
    "    \"date_detection\": False,\n",
    "    \"properties\": {\n",
    "      \"id\": {\n",
    "        \"type\": \"keyword\"\n",
    "      },\n",
    "      \"created_at\": {\n",
    "        \"type\": \"date\"\n",
    "      },\n",
    "      \"text\": {\n",
    "        \"type\": \"keyword\"\n",
    "      },\n",
    "      \"hashtags\": {\n",
    "        \"type\": \"keyword\"\n",
    "      },\n",
    "      \"symbols\": {\n",
    "        \"type\": \"keyword\"\n",
    "      },\n",
    "      \"user_id\": {\n",
    "        \"type\": \"keyword\"\n",
    "      },\n",
    "      \"user_location\": {\n",
    "        \"type\": \"keyword\"\n",
    "      },\n",
    "      \"geo\": {\n",
    "        \"type\": \"keyword\"\n",
    "      },\n",
    "      \"coordinates\": {\n",
    "        \"type\": \"keyword\"\n",
    "      },\n",
    "      \"retweet_count\": {\n",
    "        \"type\": \"keyword\"\n",
    "      },\n",
    "      \"favorite_count\": {\n",
    "        \"type\": \"keyword\"\n",
    "      },\n",
    "      \"possibly_sensitive\": {\n",
    "        \"type\": \"keyword\"\n",
    "      }\n",
    "    }\n",
    "  }\n",
    "}"
   ]
  },
  {
   "cell_type": "code",
   "execution_count": 134,
   "metadata": {},
   "outputs": [],
   "source": [
    "response = es.indices.create(\n",
    "    index=\"twitter\",\n",
    "    body=twitter_mapping,\n",
    "    ignore=400 # ignore 400 already exists code\n",
    ")"
   ]
  },
  {
   "cell_type": "code",
   "execution_count": 135,
   "metadata": {},
   "outputs": [
    {
     "data": {
      "text/plain": [
       "{'acknowledged': True, 'shards_acknowledged': True, 'index': 'twitter'}"
      ]
     },
     "execution_count": 135,
     "metadata": {},
     "output_type": "execute_result"
    }
   ],
   "source": [
    "response"
   ]
  },
  {
   "cell_type": "code",
   "execution_count": 189,
   "metadata": {},
   "outputs": [],
   "source": [
    "twitter_output = [dI for dI in os.listdir('scraper') if not os.path.isdir(os.path.join('scraper',dI)) \\\n",
    "                 and dI.startswith('twitter') and dI.endswith('json')]\n"
   ]
  },
  {
   "cell_type": "code",
   "execution_count": 190,
   "metadata": {},
   "outputs": [
    {
     "data": {
      "text/plain": [
       "['twitter_womenempowerment_tag.json',\n",
       " 'twitter_effyourbeautystandards_tag.json',\n",
       " 'twitter_woman_search.json',\n",
       " 'twitter_nomoore_tag.json',\n",
       " 'twitter_yesallwomen_tag.json',\n",
       " 'twitter_woman_tag.json',\n",
       " 'twitter_whyididntreport_tag.json',\n",
       " 'twitter_iamanastywoman_tag.json',\n",
       " 'twitter_metoo_tag.json',\n",
       " 'twitter_timesup_tag.json',\n",
       " 'twitter_equality_tag.json',\n",
       " 'twitter_womensreality_tag.json',\n",
       " 'twitter_whyistayed_tag.json',\n",
       " 'twitter_gender equality_search.json',\n",
       " 'twitter_iamwithher_tag.json',\n",
       " 'twitter_fem2_tag.json',\n",
       " 'twitter_feminist_search.json',\n",
       " 'twitter_heforshe_tag.json',\n",
       " 'twitter_feminist_tag.json',\n",
       " 'twitter_everudaysexism_tag.json',\n",
       " 'twitter_sexism_search.json',\n",
       " 'twitter_tothegirls_tag.json',\n",
       " 'twitter_girlpower_tag.json',\n",
       " 'twitter_feminism_search.json',\n",
       " 'twitter_women_tag.json']"
      ]
     },
     "execution_count": 190,
     "metadata": {},
     "output_type": "execute_result"
    }
   ],
   "source": [
    "twitter_output"
   ]
  },
  {
   "cell_type": "code",
   "execution_count": 191,
   "metadata": {},
   "outputs": [],
   "source": [
    "def send_twitter_json(content):\n",
    "    for r in content:\n",
    "        date = int(time.mktime(datetime.datetime.strptime(r['created_at'], '%a %b %d %H:%M:%S +0000 %Y').timetuple()) * 1000)\n",
    "        c = ' '.join(r['coordinates']) if r['coordinates'] is not None else ''\n",
    "        doc = {\n",
    "            'id': r['id_str'],\n",
    "            'created_at': date,\n",
    "            'text': r['text'],\n",
    "            'hashtags': list(map(lambda d: d['text'], r['entities']['hashtags'])),\n",
    "            'symbols': None,\n",
    "            'user_id': r['user']['id_str'],\n",
    "            'user_location': r['user']['location'],\n",
    "            'geo': str(r['geo']),\n",
    "            'coordinates': str(r['coordinates']),\n",
    "            'retweet_count': r['retweet_count'],\n",
    "            'favorite_count': r['favorite_count'],\n",
    "            'possibly_sensitive': str(r.get('possibly_sensitive', False))\n",
    "        }\n",
    "        resp = es.index(index='twitter', body=doc, id=r['id'])"
   ]
  },
  {
   "cell_type": "code",
   "execution_count": 192,
   "metadata": {},
   "outputs": [
    {
     "name": "stdout",
     "output_type": "stream",
     "text": [
      "scraper/twitter_womenempowerment_tag.json\n",
      "scraper/twitter_effyourbeautystandards_tag.json\n",
      "scraper/twitter_woman_search.json\n",
      "scraper/twitter_nomoore_tag.json\n",
      "scraper/twitter_yesallwomen_tag.json\n",
      "scraper/twitter_woman_tag.json\n",
      "scraper/twitter_whyididntreport_tag.json\n",
      "scraper/twitter_iamanastywoman_tag.json\n",
      "scraper/twitter_metoo_tag.json\n",
      "scraper/twitter_timesup_tag.json\n",
      "scraper/twitter_equality_tag.json\n",
      "scraper/twitter_womensreality_tag.json\n",
      "scraper/twitter_whyistayed_tag.json\n",
      "scraper/twitter_gender equality_search.json\n",
      "scraper/twitter_iamwithher_tag.json\n",
      "scraper/twitter_fem2_tag.json\n",
      "scraper/twitter_feminist_search.json\n",
      "scraper/twitter_heforshe_tag.json\n",
      "scraper/twitter_feminist_tag.json\n",
      "scraper/twitter_everudaysexism_tag.json\n",
      "scraper/twitter_sexism_search.json\n",
      "scraper/twitter_tothegirls_tag.json\n",
      "scraper/twitter_girlpower_tag.json\n",
      "scraper/twitter_feminism_search.json\n",
      "scraper/twitter_women_tag.json\n"
     ]
    }
   ],
   "source": [
    "for t in twitter_output:\n",
    "    filename = 'scraper/' + t\n",
    "    print(filename)\n",
    "    with open(filename) as f:\n",
    "        c = json.load(f)\n",
    "        send_twitter_json(c)"
   ]
  },
  {
   "cell_type": "code",
   "execution_count": null,
   "metadata": {},
   "outputs": [],
   "source": []
  }
 ],
 "metadata": {
  "kernelspec": {
   "display_name": "Python 3",
   "language": "python",
   "name": "python3"
  },
  "language_info": {
   "codemirror_mode": {
    "name": "ipython",
    "version": 3
   },
   "file_extension": ".py",
   "mimetype": "text/x-python",
   "name": "python",
   "nbconvert_exporter": "python",
   "pygments_lexer": "ipython3",
   "version": "3.7.6"
  },
  "toc": {
   "base_numbering": 1,
   "nav_menu": {},
   "number_sections": true,
   "sideBar": true,
   "skip_h1_title": false,
   "title_cell": "Table of Contents",
   "title_sidebar": "Contents",
   "toc_cell": false,
   "toc_position": {},
   "toc_section_display": true,
   "toc_window_display": false
  }
 },
 "nbformat": 4,
 "nbformat_minor": 2
}
