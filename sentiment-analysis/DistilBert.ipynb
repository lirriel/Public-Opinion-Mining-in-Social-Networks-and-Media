{
  "nbformat": 4,
  "nbformat_minor": 0,
  "metadata": {
    "colab": {
      "name": "DistilBert.ipynb",
      "provenance": [],
      "machine_shape": "hm"
    },
    "kernelspec": {
      "name": "python3",
      "display_name": "Python 3"
    },
    "language_info": {
      "name": "python"
    }
  },
  "cells": [
    {
      "cell_type": "code",
      "metadata": {
        "colab": {
          "base_uri": "https://localhost:8080/"
        },
        "id": "2ky9UldNeaVB",
        "outputId": "4872644a-f57a-4ec0-a920-ec5036664dac"
      },
      "source": [
        "# pip install transformers\n",
        "# !pip install pymorphy2\n",
        "# !pip install textacy\n",
        "# !pip install stanza\n",
        "# !pip install stanfordnlp\n",
        "# !pip install contractions\n",
        "# !pip install unidecode\n",
        "# !pip install word2number\n",
        "# !pip install emoji\n",
        "# !pip install spellchecker\n",
        "# !pip install pyspellchecker"
      ],
      "execution_count": null,
      "outputs": [
        {
          "output_type": "stream",
          "text": [
            "Collecting pyspellchecker\n",
            "\u001b[?25l  Downloading https://files.pythonhosted.org/packages/64/c7/435f49c0ac6bec031d1aba4daf94dc21dc08a9db329692cdb77faac51cea/pyspellchecker-0.6.2-py3-none-any.whl (2.7MB)\n",
            "\u001b[K     |████████████████████████████████| 2.7MB 13.2MB/s \n",
            "\u001b[?25hInstalling collected packages: pyspellchecker\n",
            "Successfully installed pyspellchecker-0.6.2\n"
          ],
          "name": "stdout"
        }
      ]
    },
    {
      "cell_type": "code",
      "metadata": {
        "id": "W3sYhcsIOXYd"
      },
      "source": [
        "import spacy\n",
        "import sys, scipy, numpy\n",
        "import json\n",
        "import en_core_web_sm\n",
        "import pymorphy2\n",
        "import textacy.extract\n",
        "import stanza\n",
        "# from spacy_stanza import StanzaLanguage\n",
        "import stanfordnlp\n",
        "import scipy\n",
        "from spacy import displacy\n",
        "import nltk\n",
        "import nltk.corpus\n",
        "import operator\n",
        "\n",
        "from gensim.models import CoherenceModel, LdaModel, LsiModel, HdpModel\n",
        "# from gensim.models.wrappers import LdaMallet\n",
        "\n",
        "from nltk.corpus import stopwords\n",
        "from nltk.stem import PorterStemmer \n",
        "from nltk.tokenize import word_tokenize\n",
        "\n",
        "from nltk.stem import WordNetLemmatizer\n",
        "from nltk import sent_tokenize\n",
        "import contractions\n",
        "import gensim.downloader as api\n",
        "\n",
        "import seaborn as sns; sns.set()\n",
        "import os\n",
        "\n",
        "from bs4 import BeautifulSoup\n",
        "import unidecode\n",
        "from word2number import w2n\n",
        "import re\n",
        "\n",
        "import emoji\n",
        "import pandas as pd\n",
        "import matplotlib.pyplot as plt\n",
        "import seaborn as sns\n",
        "import itertools\n",
        "import collections\n",
        "from tqdm.auto import tqdm\n",
        "import string\n",
        "from sklearn.feature_extraction.text import CountVectorizer\n",
        "from sklearn.linear_model import LinearRegression,  LogisticRegression\n",
        "from sklearn.metrics import classification_report\n",
        "from sklearn.model_selection import train_test_split\n",
        "from sklearn.feature_extraction.text import TfidfVectorizer\n",
        "\n",
        "from sklearn.ensemble import RandomForestClassifier\n",
        "from sklearn.datasets import make_classification\n",
        "from sklearn.svm import LinearSVC\n",
        "from sklearn.feature_selection import SelectFromModel\n",
        "\n",
        "# from catboost import CatBoostClassifier\n",
        "from sklearn.pipeline import Pipeline\n",
        "\n",
        "from nltk.stem import PorterStemmer\n",
        "from nltk.stem import LancasterStemmer\n",
        "\n",
        "%matplotlib inline\n",
        "\n",
        "import matplotlib.pyplot as plt\n",
        "import seaborn as sns\n",
        "\n",
        "SMALL_SIZE = 14\n",
        "MEDIUM_SIZE = 18\n",
        "BIGGER_SIZE = 20\n",
        "\n",
        "plt.rc('font', size=SMALL_SIZE)          # controls default text sizes\n",
        "plt.rc('axes', titlesize=BIGGER_SIZE)     # fontsize of the figure title\n",
        "plt.rc('axes', labelsize=MEDIUM_SIZE)    # fontsize of the x and y labels\n",
        "plt.rc('xtick', labelsize=SMALL_SIZE)    # fontsize of the tick labels\n",
        "plt.rc('ytick', labelsize=SMALL_SIZE)    # fontsize of the tick labels\n",
        "plt.rc('legend', fontsize=SMALL_SIZE)    # legend fontsize\n",
        "\n",
        "import pandas as pd\n",
        "import numpy as np\n",
        "\n",
        "pd.set_option('display.max_rows', 500)\n",
        "\n",
        "from tqdm._tqdm_notebook import tqdm_notebook as tqdm\n",
        "\n",
        "import gensim\n",
        "import gensim.corpora as corpora\n",
        "\n",
        "from spellchecker import SpellChecker\n",
        "import pkg_resources\n",
        "\n",
        "from nltk.stem.wordnet import WordNetLemmatizer\n",
        "from textblob import TextBlob, Word\n",
        "%matplotlib inline\n",
        "# import pyLDAvis\n",
        "# import pyLDAvis.gensim_models as gensimvis\n",
        "\n",
        "import datetime\n",
        "\n",
        "from wordcloud import WordCloud, STOPWORDS\n",
        "import matplotlib.colors as mcolors"
      ],
      "execution_count": null,
      "outputs": []
    },
    {
      "cell_type": "code",
      "metadata": {
        "colab": {
          "base_uri": "https://localhost:8080/"
        },
        "id": "NLGy4upNSWO-",
        "outputId": "b0d9b3fc-0d51-49fc-edc8-47c06dd3bf14"
      },
      "source": [
        "nltk.download('stopwords')"
      ],
      "execution_count": null,
      "outputs": [
        {
          "output_type": "stream",
          "text": [
            "[nltk_data] Downloading package stopwords to /root/nltk_data...\n",
            "[nltk_data]   Unzipping corpora/stopwords.zip.\n"
          ],
          "name": "stdout"
        },
        {
          "output_type": "execute_result",
          "data": {
            "text/plain": [
              "True"
            ]
          },
          "metadata": {
            "tags": []
          },
          "execution_count": 35
        }
      ]
    },
    {
      "cell_type": "code",
      "metadata": {
        "id": "FE8FBpc6eRdL"
      },
      "source": [
        "from transformers import DistilBertModel, DistilBertConfig, DistilBertTokenizer, TFDistilBertForSequenceClassification\n",
        "import pandas as pd\n",
        "import numpy as np\n",
        "import tensorflow as tf\n",
        "from sklearn.model_selection import train_test_split\n",
        "from transformers import InputExample, InputFeatures\n",
        "import json"
      ],
      "execution_count": null,
      "outputs": []
    },
    {
      "cell_type": "code",
      "metadata": {
        "id": "MBE23Vf3SKMR"
      },
      "source": [
        "# popular stop words that should also \n",
        "pop_words = ['go', 'would', 'get', 'new', 'time', 'take', 'can', 'to',\n",
        "             'come', 'let', 'really', 'de', 'okay', 'people', 'thing', 'also', \n",
        "            'thanks', 'well', 'say', 'see', 'year', 'yeah', 'lol', 'point', 'make', 'oh', 'god', 'thank', \n",
        "            'follow', 'send', 'dm', 'www', 'many', 'much', 'day', 'wow', 'know', 'mao',\n",
        "             'instagram', 'link', 'eye', 'want', 'look', 'oh', 'hi', 'sure', 'right', 'lot', 'think', \n",
        "             'fuck', 'video', 'cop', 'even', 'every', 'post', 'shit', 'come', 'always', 'still',\n",
        "            'call', 'haircut', 'feel','bro', 'of', 'take', 'though', 'awww', 'he', 'she',\n",
        "            'watch', 'sub', 'ban', 'much', 'share', 'thank', 'show', 'page', 'someone',\n",
        "            'could', 'use', 'give', 'ask', 'ever', 'way', 'could', 'omg', 'give', 'something', 'time',\n",
        "            'maybe', 'damn', 'since', 'haha', 'shower', 'name', 'mean', 'might', 'everything', 'others', \n",
        "             'comment', 'fox', 'clearly', 'talk', 'fact', 'ilm', 'nfc', 'try', 'never', 'hey', 'must', \n",
        "             'big', 'hair', 'without', 'miss', 'else', 'ok', 'not', 'two', 'do', 'anyone', 'put', 'bring',\n",
        "            'first', 'anything', 'thanks', 'fav', 'may', 'need', 'exactly', 'one', 'amp',\n",
        "            'http', 'co', 'medium','https', 'actually', 'nothing', 'back', 'word', 'com', 'imgur', \n",
        "            'either', 'congrats', 'op', 'though', 'draft', 'sooo', 'xx', 'riotgrrrl',\n",
        "            'riotgrrrl', 'batmobile', 'riotgrrrlzine', 'riotgrrrlroots', 'riot', 'grrrl', 'heavenstobetsy',\n",
        "            'photo', 'eat', 'morning', 'babe', 'wing', 'karen', 'bee', 'tag', 'hat', 'dc', 'na',\n",
        "            'boyslockerroomtruth', 'arrestswatimaliwal', 'tweet', 'ah', 'seriously', 'sunday', 'grow',\n",
        "            'whaaaaaaat', 'whoaaaaa', 'shhhhhh', 'canvass', 'moore', 'aw', 'tho', 'yeahhhhhh', 'wish', \n",
        "             'alway', 'awhile', 'case', 'play', 'add', 'ma','da', 'note', 'em', 'term',\n",
        "            'find', 'less', 'yup', 'tds', 'caption', 'read', 'ro', 'apt', 'stuff', 'almost', 'sort', '10000a',\n",
        "            'phone', 'nowwhats', 'nah', 'alexa', 'so', 'ummmm', 'next', 'waaaaaaaaaaa', 'nearly', 'as', \n",
        "             'probably', 'sooooo', 'book', 'entire', 'tb', 'fall', 'metro', 'bro','don', 'today',\n",
        "             'update', 'tell', 'bathroom',\n",
        "            'ed', 'yet', 'three', 'huh', 'left', 'onion', 'seem', 'meow', 'shapiro', 'everyone', 'guess',\n",
        "             'real', 'load']\n",
        "pop_words.extend(['rt', 'us', 'like', 'one', 'via', 'ur', 'lo', 'en', 'sometimes', 'eventually', 'somewhere', \n",
        "                       'other', 'yes', 'no', 'me', 'de', 'fyp', 'foryou', 'foryoupage', 'viral', 'duet', 'stitch',\\\n",
        "                 'greenscreen', 'fy', 'tiktok', 'trending', 'cc', 'la', 'something'])\n",
        "# marks of spanish words to be removed\n",
        "spanish = ['la', 'qe', 'que', 'te', 'linda', 'ki', 'ya', 'que', 'olhar', 'puro', 'teu', 'md',\n",
        "          'esse', 'olhar', 'essa', 'boca', 'esses', 'olhos', 'esse', 'corp', 'uma', 'cobra', 'prima',\n",
        "          'eu', 'tbm', 'tomei', 'liberdade', 'de', 'postal', 'meu', 'se',\n",
        "           'essa', 'de', 'segunda', 'feira', 'tbm', 'doux', 'merci', 'soil', 'douce', 'bon',\n",
        "           'end', 'week', 'belle', 'rie', 'ch','stu',  'tu', 'deus', 'aren', 'oe', 'voc',\n",
        "          'mu', 'yle', 'lanka', 'si', 'eds', 'kemal', 'kondo', 'meshrefet', 'yemymrebsh',\n",
        "           'aten', 'oluyorlar', 'bir', 'sm', 'ger', 'eli', 'olan', 'drum', 'asia', 'genel', 'ildir',\n",
        "           'kad', 'ine', 'despite', 'olmuyor', 'erkek', 'al', 'sada', 'al', 'masada', 'line', 'medi', 'bir', 'ge', \n",
        "        'ev', 'kad', 'revi', 'ilse', 'al', 'ev', 'ge', 'indirmekte', 'erie', 'revi', 'ildir', 'ama', \n",
        "           'kad', 'eve', 'kal', 'hem', 'erkek', 'al', 'hem', 'erkek', 'evi', 'ge', 'incision', 'diyip', 'sorumluluklar', \n",
        "           'bekliyor', 'sorumluluk', 'palmyra', 'kad', 'near', 'sorumluluklarda', 'beklemesinler', 'al', 'erie', 'al', \n",
        "           'mayan', 'kar', 'ev', 'ramadi', 'riek', 'gayet', 'normal', 'sonu', 'ta', 'al', 'ine', 'yard', 'between', 'kad',\n",
        "           'ev', 'index', 'bana', 'yard', 'etmiyor', 'die', 'panama', 'erkek', 'al', 'ev', 'ge', 'indiriyorsa', 'kad', 'nda', \n",
        "           'eve', 'kal', 'yorsa', 'kad', 'ev', 'yapar', 'sorumluluk', 'editor', 'aman', 'al', 'kocas', 'yard', 'etsin'\n",
        "           'gracie', 'slesha',  'totalmente', 'um', 'mundo', 'aparte', 'soho', 'de', 'consumo',\n",
        "           'vo', 'te', 'quite', 'mi', 'amor', 'todo', 'santo', 'dia', 'um', 'gaston', 'de', 'energia', 'fa', 'passar', 'raiva', 'forabolsonaro']\n",
        "# mapping similar words to unite\n",
        "sense_mapping = {'feminist': 'feminism', 'men': 'man', 'women': 'woman', 'girl': 'woman', 'boy': 'man', 'male': 'man', 'female': 'woman',\n",
        "                'guy': 'man', 'babe': 'woman', 'godbless': 'bless', 'harass': 'harassment', 'soo': 'so', 'hoping': 'hope', 'ppl': 'people'}\n",
        "\n",
        "stop=stopwords.words('english')\n",
        "stopWords = list(['everywhere', 'although', 'given', 'mainly', 'again', 'make', 'we', 'tends', 'showns', \\\n",
        "                  'sup', 'undoing', 'oh', 'something', 'kg', 'to', 'unto', 'forth', 'had', 'page', 'otherwise', \\\n",
        "                  'can', \"one's\", 'evermore', 'minus', 'both', 'apart', 'hardly', 'whom', 'put', 'am', 'everything',\\\n",
        "                  'seven', 'somebody', \"that's\", 'inc', 'specifically', \"can't\", 'recently', 'even', 'announce', \\\n",
        "                  'caption', 'abroad', 'almost', 'go', \"i'd\", 'hither', 'probably', 'twice', 'there', 'whither', \\\n",
        "                  'yes', 'affected', 'definitely', 'hes', 'seen', 'maybe', 'provides', \"t's\", \"a's\", 'looking', \\\n",
        "                  'forever', 'ff', 'hereafter', 'under', 'actually', 'sec', 'seems', 'second', 'shows', 'beforehand',\\\n",
        "                  'respectively', 'somethan', 'ours', 'g', 'wonder', 'first', 'overall', 'without', 'having', \"he's\",\\\n",
        "                  \"don't\", \"who's\", 'half', 'million', 'directly', 'x', 'immediately', 'shes', 'abst', 'soon', 'arise',\\\n",
        "                  'thereby', 'certain', 'd', 'secondly', 'id', 'ref', \"he'd\", 'namely', 'thanx', 'theres', 'might', \\\n",
        "                  \"there've\", \"wasn't\", 'happens', 'why', 'as', 'whilst', 'came', 'backward', 'while', 'ie', 'said',\\\n",
        "                  'aside', 'wherein', 'act', 'owing', 'near', 'amidst', 'also', 'hers', 'comes', 'either', 'date', \\\n",
        "                  'added', 'latterly', 'hi', 'say', 'besides', 'different', 'give', 'immediate', 'right', 'somewhere',\\\n",
        "                  'ml', 'neverf', 'ever', 'e', 'exactly', 'gotten', 'ahead', 'w', 'take', 'hundred', 'self', 'nd', \\\n",
        "                  'predominantly', 'someone', 'whereafter', \"mustn't\", \"daren't\", 'itself', 'being', \"c's\", 'needs',\\\n",
        "                  \"they've\", \"you've\", 'z', 'please', 'serious', 'whoever', 'ask', 'some', 'found', 'allow', 'made', \\\n",
        "                  'value', 'forward', 'unlike', 'due', 'suggest', 'howbeit', 'useful', 'him', 'notwithstanding', \\\n",
        "                  'never', 'often', 'that', 'gave', 'mug', 'refs', 'done', \"where's\", 'via', 're', 'than', \"you'll\", \\\n",
        "                  'presumably', 'eight', 'largely', 'anyone', 'once', 'anyway', 'others', 'wherever', 'whereby', \\\n",
        "                  'somehow', 'ending', 'the', 'were', 'for', 'beside', \"they'll\", 'your', \"couldn't\", 'begins', 'need',\\\n",
        "                  'seeing', 'invention', 'associated', \"hasn't\", 'became', 'alongside', 'usually', 'want', 'similarly',\\\n",
        "                  'within', 'sure', \"it'd\", 'poorly', 'here', 'think', 'containing', 'im', 'available', 'insofar', 'ca',\\\n",
        "                  'themselves', 'little', 'anywhere', 'someday', 'after', 'try', 'kept', \"mayn't\", 'other', 'tries', \\\n",
        "                  'perhaps', 'several', 'till', 'moreover', 'zero', 'best', 'only', \"weren't\", 'line', 'did',\\\n",
        "                  'getting', 'uses', 'upwards', \"they're\", 'an', \"i'll\", 'q', 'particular', 'formerly',\\\n",
        "                  'ord', \"shouldn't\", 'k', 'above', 'nearly', 'six', 'wish', 'he', 'knows', 'far', 'sufficiently', \\\n",
        "                  'looks', 'rd', 'farther', 'consider', 'anyways', 'thereupon', 'fix', \"haven't\", 'goes', 'non',\\\n",
        "                  'same', 'already', 'greetings', \"he'll\", 'km', 'lower', 'me', \"she'd\", 'significant', \"they'd\", \\\n",
        "                  'que', 'thereafter', 'mrs', 'shall', 'quickly', 'resulted', 'anymore', 'whichever', \"ain't\", 'get',\\\n",
        "                  'however', 'edu', 'round', 'likewise', 'back', 'of', 'okay', 'hello', 'its', 'a', 'various', \\\n",
        "                  'normally', 'behind', 'importance', 'h', 'if', 'mg', 'few', 'despite', 'ago', \"there'll\", \\\n",
        "                  'corresponding', 'hid', 'pages', 'mostly', 't', 'theirs', 'sub', 'between', \"isn't\", 'accordance',\\\n",
        "                  'becomes', 'nos', 'own', 'all', \"mightn't\", 'much', 'keeps', 'they', \"what's\", 'th', 'are', 'end', \\\n",
        "                  'such', 'toward', 'whose', 'is', 'come', 'believe', 'rather', 'look', 'past', 'then', 'thanks', \\\n",
        "                  'clearly', 'across', 'com', 'none', 'u', 'one', \"wouldn't\", 'briefly', 'each', 'concerning', 'do', \\\n",
        "                  'f', 'know', 'allows', 'important', 'run', 'plus', 'really', 'was', 'un', 'better', 'but', \"it's\", 'old', 'viz', 'heres', \"you're\", 'below', 'gives', 'et-al', 'ourselves', 'successfully', 'name', 'seemed', 'sometime', 'hopefully', 'example', 'among', 'their', 'used',\n",
        "                  'may', \"didn't\", 'thus', 'ignored', 'meanwhile', 'these', 'still', 'affecting', 'how', 'potentially', \"that've\", 'whether', 'contain', 'her', 'substantially', 'course', 'liked', 'whence', 'nay', 'everyone', 'l', 'whereupon', 'thru', 'means', 'she', 'by', 'inside', 'selves', 'gone', 'apparently', 'whole', 'become', 'c', 'cant', 'related', 'nobody', 'results', 'latter', 'et', 'nevertheless', 'primarily', \"what've\", 'home', \"what'll\", 'on', 'himself', 'like', 'hed', 'thirty', 'effect', 'seeming', 'would', 'follows', 'just', \"we're\", 'known', 'vs', 'described', 'everybody', 'inc.', 'yet', 'what', 'nor', 'pp', 'since', 'every', \"there're\", 'things', 'his', 'shown', 'p', 'ninety', 'index', 'keep', 'willing', 'help', 'whereas', 'else', 'considering', 'four', 'lets', 'brief', 'any', \"c'mon\", 'hereby', 'it', 'asking', 'gets', 'no-one', 'merely', 'affects', 'does', 'herein', 'not', \"you'd\", 'specifying', 'trying', 'meantime', 'regardless', 'anyhow', \"we'll\", 'recent', 'noone', 'therefore', 'going', 'yourself', 'has', 'another', 'wants', 'necessarily', 'research', 'obviously', 'amongst', 'up', 'though', 'too', 'm', 'auth', 'aren', 'na', 'sensible', 'over', 'ex', 'them', 'stop', 'hence', 'says', 'reasonably', 'many', 'according', 'beginning', 'throughout', 'towards', 'afterwards', 's', 'always', 'i', 'ed', 'eg', 'using', 'especially', 'novel', \"there's\", \"aren't\", 'two', 'mine', 'lest', 'co', 'later', 'begin', 'entirely', 'taking', 'saying', 'eighty', 'slightly', 'able', \"we'd\", 'beyond', 'until', \"that'll\", 'j', 'placed', 'with', \"she'll\", 'mean', 'regarding', 'sometimes', 'welcome', 'promptly', 'doing', \"let's\", 'backwards', 'regards', 'strongly', 'adj', 'those', 'whatever', 'possibly', 'consequently', 'use', 'n', 'very', 'whenever', 'ran', 'before', \"i've\", 'awfully', 'tell', 'be', 'last', 'outside', \"who'd\", 'now', 'ltd', 'certainly', 'from', 'anything', 'sorry', 'unlikely', 'us', 'specified', 'sent', 'you', 'specify', 'about', 'myself', 'see', 'ought', 'fairly', 'been', 'thence', 'thats', 'where', 'currently', 'saw', 'most', \"i'm\", 'well', 'least', 'will', 'opposite', 'our', 'giving', 'hereupon', 'amid', 'at', 'shed', 'seriously', 'per', 'quite', 'noted', 'upon', \"oughtn't\", 'showed', 'furthermore', 'off', 'neither', 'indicated', 'so', 'particularly', 'section', 'inner', 'inasmuch', 'into', 'causes', 'accordingly', 'herself', 'resulting', 'took', 'my', 'down', 'v', 'obtained', 'except', 'through', 'possible', 'got', 'former', 'relatively', 'part', 'show', 'yours', 'arent', 'nothing', 'thoroughly', 'couldnt', 'followed', 'or', 'beginnings', \"who'll\", 'contains', 'mr', 'miss', 'following', 'let', 'previously', 'provided', 'should', 'in', 'and', 'readily', 'cause', 'anybody', 'truly', 'whomever', 'nowhere', 'no', 'cannot', 'have', 'could', 'lately', \"'ll\", 'ok', 'onto', 'omitted', 'present', 'went', 'underneath', 'this', 'neverless', 'during', 'indicates', 'etc', 'downwards', 'somewhat', 'indicate', 'unfortunately', 'seem', 'three', \"we've\", 'proud', \"needn't\", 'co.', 'taken', \"there'd\", 'next', 'less', 'y', 'becoming', 'more', 'nonetheless', 'against', 'biol', \"it'll\", 'versus', 'thorough', \"won't\", 'ah', 'r', 'inward', 'low', 'unless', 'significantly', 'indeed', 'uucp', 'together', \"she's\", 'qv', 'tried', 'along', 'alone', 'thank', 'thing', 'similar', 'who', 'instead', 'new', 'dare', 'around', 'information', \"hadn't\", 'which', \"shan't\", 'approximately', 'appear', 'way', 'enough', 'changes', 'o', 'obtain', 'when', 'likely', 'b', 'ones', \"doesn't\", 'out', 'five', 'necessary', 'must', 'makes', 'fifth', 'away', 'third', 'appropriate', 'elsewhere', 'further', 'therein', \"here's\", 'itd', 'yourselves', 'nine', 'fewer', 'because',\\\n",
        "                  'dm', 'rt', 'will', 'really', 'link', 'go', 'get', 'got'])\n",
        "stopWords.extend(['rt', 'us', 'like', 'one', 'via', 'ur', 'lo', 'en', 'sometimes', 'eventually', 'somewhere', \n",
        "                       'other', 'yes', 'no', 'me', 'de', 'fyp', 'foryou', 'foryoupage', 'viral', 'duet', 'stitch',\\\n",
        "                 'greenscreen', 'fy', 'tiktok', 'trending', 'cc', 'la', 'something'])\n",
        "symbols_to_isolate = '.,?!-;*\"…:—()%#$&_/@＼・ω+=”“[]^–>\\\\°<~•≠™ˈʊɒ∞§{}·τα❤☺ɡ|¢→̶`❥━┣┫┗Ｏ►★©―ɪ✔®\\x96\\x92●£♥➤´¹☕≈÷♡◐║▬′ɔː€۩۞†μ✒➥═☆ˌ◄½ʻπδηλσερνʃ✬ＳＵＰＥＲＩＴ☻±♍µº¾✓◾؟．⬅℅»Вав❣⋅¿¬♫ＣＭβ█▓▒░⇒⭐›¡₂₃❧▰▔◞▀▂▃▄▅▆▇↙γ̄″☹➡«φ⅓„✋：¥̲̅́∙‛◇✏▷❓❗¶˚˙）сиʿ✨。ɑ\\x80◕！％¯−ﬂﬁ₁²ʌ¼⁴⁄₄⌠♭✘╪▶☭✭♪☔☠♂☃☎✈✌✰❆☙○‣⚓年∎ℒ▪▙☏⅛ｃａｓǀ℮¸ｗ‚∼‖ℳ❄←☼⋆ʒ⊂、⅔¨͡๏⚾⚽Φ×θ￦？（℃⏩☮⚠月▸■⇌☐☑⚡☄ǫ╭∩╮，例＞ʕɐ̣Δ₀✞┈╱╲▏▕┃╰▊▋╯┳┊≥☒↑☝ɹ☛♩☞ＡＪＢ◔◡↓♀⬆̱ℏ\\x91⠀ˤ╚↺⇤∏✾◦♬³の｜／∵∴√Ω¤☜▲↳▫‿⬇✧ｏｖｍ－２０８＇‰≤∕ˆ⚜☁'\n",
        "symbols_to_delete = '\\n\\r\\xa0\\ue014\\t\\uf818\\uf04a\\xad\\uf0e0\\u200b\\u200eعدويهصقأناخلىبمغرЕ\\u202a\\u202cᴍʏʀᴇɴᴅᴏᴀᴋʜᴜʟᴛᴄᴘʙғᴊᴡɢשלוםבי‼\\x81エンジ故障\\u2009ᴵ͞\\u200fאעכח💯⛽🚄🏼ஜᴠ🚲‐\\x7fἐὶήιὲκἀίῃἴξＨ\\ufeff\\u2028\\u3000تحكسةzفزط\\u2008🏾🏽🎆\\x08‑𝘊𝘦𝘳𝘢𝘵𝘰𝘤𝘺𝘴𝘪𝘧𝘮𝘣地獄谷улкнПоАНה🔗🚽歌舞伎🇸мυтѕ⤵🎃\\u200a🐟эпрд\\x95\\u2002\\u2004ˢᵒʳʸᴼᴷᴺʷᵗʰᵉᵘ\\x13🚬\\ue602άοόςέὸתמדףנרךצט🔄🔤🔛\\uf0b7\\uf04c\\x9f\\x10成都ехἸᾶὁ\\u202d🍇\\ue613小土豆❔⁉\\u202f👠》कर्मा🇹🇼蔡英文🎲レクサス外国人关系Сб💋ьыгя不是\\x9c\\x9d🗑\\u2005༼つ༽ḷЗз▱ц￼卖温哥华议会下降你失去所有的钱加拿大坏税骗子🐝ツ\\x85🍺آإشءἔ油别克🤡\\u2003ʲшчИОРФДЯМюж🖑ὐύύ特殊作戦群щ💨圆明园קℐ⏏ệ\\u200d𝓒𝓲𝓿𝓵안영하세요ЖљКћῦ我出生在了可以说普通话汉语好极🖒🚪天一家⚲\\u2006⚭⚆⬭⬯⏖新✀╌🇦ХШ\\x1f杀鸡给猴看ʁ𝗪𝗵𝗲𝗻𝘆𝗼𝘂𝗿𝗮𝗹𝗶𝘇𝗯𝘁𝗰𝘀𝘅𝗽𝘄𝗱ϖ\\u2000үսᴦᎥһͺ\\u2007հ\\u2001ɩｙｅ൦ｌƽｈ𝐓𝐡𝐞𝐫𝐮𝐝𝐚𝐃𝐜𝐩𝐭𝐢𝐨𝐧Ƅᴨןᑯ໐ΤᏧ௦Іᴑ܁𝐬𝐰𝐲𝐛𝐦𝐯𝐑𝐙𝐣𝐇𝐂𝐘𝟎ԜТᗞ౦〔Ꭻ𝐳𝐔𝐱𝟔𝟓𝐅🐋ﬃё𝘥𝘯𝘶💐🌋🌄🌅𝙬𝙖𝙨𝙤𝙣𝙡𝙮𝙘𝙠𝙚𝙙𝙜𝙧𝙥𝙩𝙪𝙗𝙞𝙝𝙛👺🐷ℋ𝐀𝐥𝐪🚶𝙢Ἱ💸ج패티Ｗ𝙇ᵻɜ🎫\\uf0a7БУі🚢🚂ગુજરાતીῆ🏃𝓬𝓻𝓴𝓮𝓽𝓼☘﴾̯﴿₽\\ue807𝑻𝒆𝒍𝒕𝒉𝒓𝒖𝒂𝒏𝒅𝒔𝒎𝒗𝒊\\u200cЛ‒⎌公寓养宠物吗操美𝒑𝒚𝒐𝑴欢迎来到阿拉斯ספ𝙫𝒌𝙊𝙭𝙆𝙋𝙍𝘼𝙅ﷻ🦄巨收赢得白鬼愤怒要买额ẽ🚗🐳𝟏𝐟𝟖𝟑𝟕𝒄𝟗𝐠𝙄𝙃👇锟斤拷𝗢𝟳𝟱𝟬⦁マルハニチロ株式社⛷한국어ㄸㅓ니͜ʖ𝘿𝙔₵𝒩ℯ𝒾𝓁𝒶𝓉𝓇𝓊𝓃𝓈𝓅ℴ𝒻𝒽𝓀𝓌𝒸𝓎𝙏ζ𝙟𝘃𝗺𝟮𝟭𝟯𝟲👋🦊多伦🐽🎻🎹⛓🏹🍷🦆为和中友谊祝贺与其想象对法如直接问用自己猜本传教士没积唯认识基督徒曾经让相信耶稣复活死怪他但当们聊些政治题时候战胜因圣把全堂结婚孩恐惧且栗谓这样还♾🎸🤕🤒⛑🎁批判检讨🏝🦁🙋😶쥐스탱트뤼도석유가격인상이경제황을렵게만들지않록잘관리해야합다캐나에서대마초와화약금의품런성분갈때는반드시허된사용凸ὰ💲🗯𝙈Ἄ𝒇𝒈𝒘𝒃𝑬𝑶𝕾𝖙𝖗𝖆𝖎𝖌𝖍𝖕𝖊𝖔𝖑𝖉𝖓𝖐𝖜𝖞𝖚𝖇𝕿𝖘𝖄𝖛𝖒𝖋𝖂𝕴𝖟𝖈𝕸知彼百\\uf005𝙀𝒛𝑲𝑳𝑾𝒋𝟒𝙒𝘾𝘽𝘩𝘨ὼṑ𝑱𝑹𝑫𝑵𝑪🇰ᓇᒧᔭᐃᐧᐦᑳᐨᓃᓂᑲᐸᑭᑎᓀᐣ点击查版𝑥𝑦𝑧ＮＧ👣\\uf020っфΞ\\x0b𝑯𝒒𝟐🐲چی𝑮𝗕𝗴ꜥⲣⲏ鉄リ事件ї「」\\uf203\\uf09a\\uf222\\ue608\\uf202\\uf099\\uf469\\ue607\\uf410\\ue600燻製シ虚偽屁理屈Г𝑩𝑰𝒀𝑺𝗳𝗜𝗙𝗦𝗧ὺἈἡχῖΛ⤏🇳𝒙ψՁմեռայինրւդձ冬至ὀ𝒁𝑷𝘬𝘱𝘸𝘷𝘐𝘭𝘓𝘖𝘹𝘲𝘫کΒώ💢ΜΟΝΑΕ🇱♲𝝈↴⊘Ȼ𝐎𝐍𝐊𝑭ｇｒｎｔｉｄｕｆｂｋ𝟰🇴🇭🇻🇲𝗞𝗭𝗘𝗤《\\uf10aლڡ\\U0001f92f\\U0001f92aἱ𝗸𝗟𝗠𝗷さようなら🔼'\n",
        "CONTRACTION_MAPPING = {\"ain't\": \"is not\", \"aren't\": \"are not\",\"can't\": \"cannot\", \"'cause\": \"because\", \"could've\": \"could have\", \"couldn't\": \"could not\", \"didn't\": \"did not\",  \"doesn't\": \"does not\", \"don't\": \"do not\", \"hadn't\": \"had not\", \"hasn't\": \"has not\", \"haven't\": \"have not\", \"he'd\": \"he would\",\"he'll\": \"he will\", \"he's\": \"he is\", \"how'd\": \"how did\", \"how'd'y\": \"how do you\", \"how'll\": \"how will\", \"how's\": \"how is\",  \"I'd\": \"I would\", \"I'd've\": \"I would have\", \"I'll\": \"I will\", \"I'll've\": \"I will have\",\"I'm\": \"I am\", \"I've\": \"I have\", \"i'd\": \"i would\", \"i'd've\": \"i would have\", \"i'll\": \"i will\",  \"i'll've\": \"i will have\",\"i'm\": \"i am\", \"i've\": \"i have\", \"isn't\": \"is not\", \"it'd\": \"it would\", \"it'd've\": \"it would have\", \"it'll\": \"it will\", \"it'll've\": \"it will have\",\"it's\": \"it is\", \"let's\": \"let us\", \"ma'am\": \"madam\", \"mayn't\": \"may not\", \"might've\": \"might have\",\"mightn't\": \"might not\",\"mightn't've\": \"might not have\", \"must've\": \"must have\", \"mustn't\": \"must not\", \"mustn't've\": \"must not have\", \"needn't\": \"need not\", \"needn't've\": \"need not have\",\"o'clock\": \"of the clock\", \"oughtn't\": \"ought not\", \"oughtn't've\": \"ought not have\", \"shan't\": \"shall not\", \"sha'n't\": \"shall not\", \"shan't've\": \"shall not have\", \"she'd\": \"she would\", \"she'd've\": \"she would have\", \"she'll\": \"she will\", \"she'll've\": \"she will have\", \"she's\": \"she is\", \"should've\": \"should have\", \"shouldn't\": \"should not\", \"shouldn't've\": \"should not have\", \"so've\": \"so have\",\"so's\": \"so as\", \"this's\": \"this is\",\"that'd\": \"that would\", \"that'd've\": \"that would have\", \"that's\": \"that is\", \"there'd\": \"there would\", \"there'd've\": \"there would have\", \"there's\": \"there is\", \"here's\": \"here is\",\"they'd\": \"they would\", \"they'd've\": \"they would have\", \"they'll\": \"they will\", \"they'll've\": \"they will have\", \"they're\": \"they are\", \"they've\": \"they have\", \"to've\": \"to have\", \"wasn't\": \"was not\", \"we'd\": \"we would\", \"we'd've\": \"we would have\", \"we'll\": \"we will\", \"we'll've\": \"we will have\", \"we're\": \"we are\", \"we've\": \"we have\", \"weren't\": \"were not\", \"what'll\": \"what will\", \"what'll've\": \"what will have\", \"what're\": \"what are\",  \"what's\": \"what is\", \"what've\": \"what have\", \"when's\": \"when is\", \"when've\": \"when have\", \"where'd\": \"where did\", \"where's\": \"where is\", \"where've\": \"where have\", \"who'll\": \"who will\", \"who'll've\": \"who will have\", \"who's\": \"who is\", \"who've\": \"who have\", \"why's\": \"why is\", \"why've\": \"why have\", \"will've\": \"will have\", \"won't\": \"will not\", \"won't've\": \"will not have\", \"would've\": \"would have\", \"wouldn't\": \"would not\", \"wouldn't've\": \"would not have\", \"y'all\": \"you all\", \"y'all'd\": \"you all would\",\"y'all'd've\": \"you all would have\",\"y'all're\": \"you all are\",\"y'all've\": \"you all have\",\"you'd\": \"you would\", \"you'd've\": \"you would have\", \"you'll\": \"you will\", \"you'll've\": \"you will have\", \"you're\": \"you are\", \"you've\": \"you have\" }\n",
        "isolate_dict = {ord(c):f' {c} ' for c in symbols_to_isolate}\n",
        "remove_dict = {ord(c):f'' for c in symbols_to_delete}\n",
        "\n",
        "\n",
        "NON_STOP_WORDS = ['no', 'not']\n",
        "#HappyEmoticons\n",
        "emoticons_happy = set([\n",
        "    ':-)', ':)', ';)', ':o)', ':]', ':3', ':c)', ':>', '=]', '8)', '=)', ':}',\n",
        "    ':^)', ':-D', ':D', '8-D', '8D', 'x-D', 'xD', 'X-D', 'XD', '=-D', '=D',\n",
        "    '=-3', '=3', ':-))', \":'-)\", \":')\", ':*', ':^*', '>:P', ':-P', ':P', 'X-P',\n",
        "    'x-p', 'xp', 'XP', ':-p', ':p', '=p', ':-b', ':b', '>:)', '>;)', '>:-)',\n",
        "    '<3'\n",
        "    ])\n",
        "# Sad Emoticons\n",
        "emoticons_sad = set([\n",
        "    ':L', ':-/', '>:/', ':S', '>:[', ':@', ':-(', ':[', ':-||', '=L', ':<',\n",
        "    ':-[', ':-<', '=\\\\', '=/', '>:(', ':(', '>.<', \":'-(\", \":'(\", ':\\\\', ':-c',\n",
        "    ':c', ':{', '>:\\\\', ';('\n",
        "    ])\n",
        "#combine sad and happy emoticons\n",
        "emoticons = emoticons_happy.union(emoticons_sad)\n",
        "\n",
        "def strip_html_tags(text):\n",
        "    \"\"\"remove html tags from text\"\"\"\n",
        "    soup = BeautifulSoup(text, \"html.parser\")\n",
        "    stripped_text = soup.get_text(separator=\" \")\n",
        "    return stripped_text\n",
        "\n",
        "\n",
        "def remove_whitespace(text):\n",
        "    \"\"\"remove extra whitespaces from text\"\"\"\n",
        "    text = text.strip()\n",
        "    return \" \".join(text.split())\n",
        "\n",
        "\n",
        "def remove_accented_chars(text):\n",
        "    \"\"\"remove accented characters from text, e.g. café\"\"\"\n",
        "    text = unidecode.unidecode(text)\n",
        "    return text\n",
        "\n",
        "\n",
        "def expand_contractions(text):\n",
        "    \"\"\"expand shortened words, e.g. don't to do not\"\"\"\n",
        "    text = contractions.fix(text, slang=True)\n",
        "    return text\n",
        "\n",
        "def remove_url(txt):\n",
        "    return \" \".join(re.sub(\"(\\w+:\\/\\/\\S+)\", \" \", txt).split())\n",
        "\n",
        "def remove_mentions(txt):\n",
        "    return re.sub('(@[A-Za-z0-9_]\\S+\\s+)', '', (str(txt) + \" \"))\n",
        "\n",
        "def remove_digits(txt):\n",
        "    return list(filter(lambda t: not t.isdigit(), txt))\n",
        "\n",
        "def lemmatize_with_postag(sentence):\n",
        "    sent = TextBlob(' '.join(sentence))\n",
        "    tag_dict = {\"J\": 'a', \n",
        "                \"N\": 'n', \n",
        "                \"V\": 'v', \n",
        "                \"R\": 'r'}\n",
        "    words_and_tags = [(w, tag_dict.get(pos[0], 'n')) for w, pos in sent.tags]    \n",
        "    lemmatized_list = [wd.lemmatize(tag) for wd, tag in words_and_tags]\n",
        "    return lemmatized_list\n",
        "\n",
        "def poster_stemmer(txt):\n",
        "    stemmer = PorterStemmer()\n",
        "    return [stemmer.stem(plural) for plural in txt]\n",
        "\n",
        "def correct_typo(tokens):\n",
        "    spell = SpellChecker()\n",
        "    return [spell.correction(t) if len(spell.unknown([t]))>0 else t for t in tokens]\n",
        "    \n",
        "\n",
        "def text_preprocessing(text, is_tm=True):\n",
        "    \"\"\"preprocess text with default option set to true for all steps\"\"\"\n",
        "    #convert emojies to txt\n",
        "    text = remove_url(text)\n",
        "    text = remove_mentions(text)\n",
        "    for k, v in CONTRACTION_MAPPING.items():\n",
        "        text = text.replace(' %s ' % k, ' %s ' % v)\n",
        "    text = text.translate(remove_dict)\n",
        "    text = text.translate(isolate_dict)\n",
        "    if is_tm:\n",
        "        emoji_pattern = re.compile(\"[\"\n",
        "            u\"\\U0001F600-\\U0001F64F\"  # emoticons\n",
        "            u\"\\U0001F300-\\U0001F5FF\"  # symbols & pictographs\n",
        "            u\"\\U0001F680-\\U0001F6FF\"  # transport & map symbols\n",
        "            u\"\\U0001F1E0-\\U0001F1FF\"  # flags (iOS)\n",
        "                               \"]+\", flags=re.UNICODE)\n",
        "        text = emoji_pattern.sub(r'', text)\n",
        "    else:\n",
        "        text = emoji.demojize(text)\n",
        "    text = strip_html_tags(text)\n",
        "    text = remove_whitespace(text)\n",
        "    text = remove_accented_chars(text)\n",
        "    text = expand_contractions(text)\n",
        "    text = text.lower()\n",
        "    text = text.translate(str.maketrans('', '', string.punctuation))\n",
        "    text = [word for word in text.split() if not word in stopWords]\n",
        "    text = remove_digits(text)\n",
        "    return ' '.join(text) "
      ],
      "execution_count": null,
      "outputs": []
    },
    {
      "cell_type": "code",
      "metadata": {
        "id": "B3ppIK9FeXGk"
      },
      "source": [
        "configuration = DistilBertConfig()\n",
        "model = DistilBertModel(configuration)\n",
        "configuration = model.config\n",
        "tokenizer = DistilBertTokenizer.from_pretrained('distilbert-base-uncased')"
      ],
      "execution_count": null,
      "outputs": []
    },
    {
      "cell_type": "code",
      "metadata": {
        "colab": {
          "base_uri": "https://localhost:8080/"
        },
        "id": "XPf37DNPmCZ2",
        "outputId": "08f97aaa-3aa8-4a85-e5c7-799cc7a2c888"
      },
      "source": [
        "from google.colab import drive\n",
        "drive.mount('/content/drive')"
      ],
      "execution_count": null,
      "outputs": [
        {
          "output_type": "stream",
          "text": [
            "Mounted at /content/drive\n"
          ],
          "name": "stdout"
        }
      ]
    },
    {
      "cell_type": "code",
      "metadata": {
        "id": "5AuW1BnregBH"
      },
      "source": [
        "df = pd.read_csv('/content/drive/MyDrive/Colab Notebooks/training.1600000.processed.noemoticon.csv',encoding='latin-1', header=None)"
      ],
      "execution_count": null,
      "outputs": []
    },
    {
      "cell_type": "code",
      "metadata": {
        "colab": {
          "base_uri": "https://localhost:8080/",
          "height": 204
        },
        "id": "4TxuUzvSeg0x",
        "outputId": "f42e5966-8439-40f9-b80b-78aa5fc30771"
      },
      "source": [
        "X = df[5]\n",
        "y = df[0]\n",
        "X_train, X_test, y_train, y_test = train_test_split(X, y, test_size=0.2, random_state=666, \n",
        "                                                        shuffle=True, stratify=y)\n",
        "df_train = pd.DataFrame({'txt': X_train, 'target':y_train})\n",
        "df_test = pd.DataFrame({'txt': X_test, 'target':y_test})\n",
        "df_train['target'] = df_train['target'].apply(lambda t: 0 if t == 0 else 1)\n",
        "df_test['target'] = df_test['target'].apply(lambda t: 0 if t == 0 else 1)\n",
        "df_train.head()"
      ],
      "execution_count": null,
      "outputs": [
        {
          "output_type": "execute_result",
          "data": {
            "text/html": [
              "<div>\n",
              "<style scoped>\n",
              "    .dataframe tbody tr th:only-of-type {\n",
              "        vertical-align: middle;\n",
              "    }\n",
              "\n",
              "    .dataframe tbody tr th {\n",
              "        vertical-align: top;\n",
              "    }\n",
              "\n",
              "    .dataframe thead th {\n",
              "        text-align: right;\n",
              "    }\n",
              "</style>\n",
              "<table border=\"1\" class=\"dataframe\">\n",
              "  <thead>\n",
              "    <tr style=\"text-align: right;\">\n",
              "      <th></th>\n",
              "      <th>txt</th>\n",
              "      <th>target</th>\n",
              "    </tr>\n",
              "  </thead>\n",
              "  <tbody>\n",
              "    <tr>\n",
              "      <th>1346804</th>\n",
              "      <td>@scottfrye I think Twitter is whatever you wan...</td>\n",
              "      <td>1</td>\n",
              "    </tr>\n",
              "    <tr>\n",
              "      <th>787520</th>\n",
              "      <td>Chest is starting to hurt now from all the lifts</td>\n",
              "      <td>0</td>\n",
              "    </tr>\n",
              "    <tr>\n",
              "      <th>1047675</th>\n",
              "      <td>Can I get some @Tuism with awesome things that...</td>\n",
              "      <td>1</td>\n",
              "    </tr>\n",
              "    <tr>\n",
              "      <th>834261</th>\n",
              "      <td>For Joey   ? http://blip.fm/~4kxaj</td>\n",
              "      <td>1</td>\n",
              "    </tr>\n",
              "    <tr>\n",
              "      <th>1549928</th>\n",
              "      <td>@Postlemonkey I know! I love watching montages...</td>\n",
              "      <td>1</td>\n",
              "    </tr>\n",
              "  </tbody>\n",
              "</table>\n",
              "</div>"
            ],
            "text/plain": [
              "                                                       txt  target\n",
              "1346804  @scottfrye I think Twitter is whatever you wan...       1\n",
              "787520   Chest is starting to hurt now from all the lifts        0\n",
              "1047675  Can I get some @Tuism with awesome things that...       1\n",
              "834261                  For Joey   ? http://blip.fm/~4kxaj       1\n",
              "1549928  @Postlemonkey I know! I love watching montages...       1"
            ]
          },
          "metadata": {
            "tags": []
          },
          "execution_count": 28
        }
      ]
    },
    {
      "cell_type": "code",
      "metadata": {
        "id": "WYiPopkTmNhz"
      },
      "source": [
        "def convert_data_to_examples(train, test, DATA_COLUMN, LABEL_COLUMN): \n",
        "  train_InputExamples = train.apply(lambda x: InputExample(guid=None, # Globally unique ID for bookkeeping, unused in this case\n",
        "                                                          text_a = x[DATA_COLUMN], \n",
        "                                                          text_b = None,\n",
        "                                                          label = x[LABEL_COLUMN]), axis = 1)\n",
        "\n",
        "  validation_InputExamples = test.apply(lambda x: InputExample(guid=None, # Globally unique ID for bookkeeping, unused in this case\n",
        "                                                          text_a = x[DATA_COLUMN], \n",
        "                                                          text_b = None,\n",
        "                                                          label = x[LABEL_COLUMN]), axis = 1)\n",
        "  \n",
        "  return train_InputExamples, validation_InputExamples\n",
        "\n",
        "  \n",
        "def convert_examples_to_tf_dataset(examples, tokenizer, max_length=128):\n",
        "    features = [] # -> will hold InputFeatures to be converted later\n",
        "\n",
        "    for e in examples:\n",
        "        # Documentation is really strong for this method, so please take a look at it\n",
        "        input_dict = tokenizer.encode_plus(\n",
        "            e.text_a,\n",
        "            add_special_tokens=True,\n",
        "            max_length=max_length, # truncates if len(s) > max_length\n",
        "            return_token_type_ids=True,\n",
        "            return_attention_mask=True,\n",
        "            pad_to_max_length=True, # pads to the right by default # CHECK THIS for pad_to_max_length\n",
        "            truncation=True\n",
        "        )\n",
        "\n",
        "        input_ids, token_type_ids, attention_mask = (input_dict[\"input_ids\"],\n",
        "            input_dict[\"token_type_ids\"], input_dict['attention_mask'])\n",
        "\n",
        "        features.append(\n",
        "            InputFeatures(\n",
        "                input_ids=input_ids, attention_mask=attention_mask, token_type_ids=token_type_ids, label=e.label\n",
        "            )\n",
        "        )\n",
        "\n",
        "    def gen():\n",
        "        for f in features:\n",
        "            yield (\n",
        "                {\n",
        "                    \"input_ids\": f.input_ids,\n",
        "                    \"attention_mask\": f.attention_mask,\n",
        "                    \"token_type_ids\": f.token_type_ids,\n",
        "                },\n",
        "                f.label,\n",
        "            )\n",
        "\n",
        "    return tf.data.Dataset.from_generator(\n",
        "        gen,\n",
        "        ({\"input_ids\": tf.int32, \"attention_mask\": tf.int32, \"token_type_ids\": tf.int32}, tf.int64),\n",
        "        (\n",
        "            {\n",
        "                \"input_ids\": tf.TensorShape([None]),\n",
        "                \"attention_mask\": tf.TensorShape([None]),\n",
        "                \"token_type_ids\": tf.TensorShape([None]),\n",
        "            },\n",
        "            tf.TensorShape([]),\n",
        "        ),\n",
        "    )"
      ],
      "execution_count": null,
      "outputs": []
    },
    {
      "cell_type": "code",
      "metadata": {
        "colab": {
          "base_uri": "https://localhost:8080/"
        },
        "id": "qIpoEFkARbjR",
        "outputId": "e9ab785b-8b87-4394-90f6-7acdf3d59586"
      },
      "source": [
        "df_train_short = df_train.iloc[:4000]\n",
        "df_test_short = df_test.iloc[:1000]\n",
        "\n",
        "df_train_short['txt_proc'] = df_train_short['txt'].apply(text_preprocessing)\n",
        "df_test_short['txt_proc'] = df_test_short['txt'].apply(text_preprocessing)"
      ],
      "execution_count": null,
      "outputs": [
        {
          "output_type": "stream",
          "text": [
            "/usr/local/lib/python3.7/dist-packages/ipykernel_launcher.py:4: SettingWithCopyWarning: \n",
            "A value is trying to be set on a copy of a slice from a DataFrame.\n",
            "Try using .loc[row_indexer,col_indexer] = value instead\n",
            "\n",
            "See the caveats in the documentation: https://pandas.pydata.org/pandas-docs/stable/user_guide/indexing.html#returning-a-view-versus-a-copy\n",
            "  after removing the cwd from sys.path.\n",
            "/usr/local/lib/python3.7/dist-packages/ipykernel_launcher.py:5: SettingWithCopyWarning: \n",
            "A value is trying to be set on a copy of a slice from a DataFrame.\n",
            "Try using .loc[row_indexer,col_indexer] = value instead\n",
            "\n",
            "See the caveats in the documentation: https://pandas.pydata.org/pandas-docs/stable/user_guide/indexing.html#returning-a-view-versus-a-copy\n",
            "  \"\"\"\n"
          ],
          "name": "stderr"
        }
      ]
    },
    {
      "cell_type": "code",
      "metadata": {
        "id": "GxffxOJYgoT9"
      },
      "source": [
        "df_train['txt_proc'] = df_train['txt'].apply(text_preprocessing)\n",
        "df_test['txt_proc'] = df_test['txt'].apply(text_preprocessing)"
      ],
      "execution_count": null,
      "outputs": []
    },
    {
      "cell_type": "code",
      "metadata": {
        "id": "yjsFtlnEmgRG"
      },
      "source": [
        "#tokenize the text\n",
        "train_encodings = tokenizer(list(df_train['txt_proc'].iloc[:100000].values),\n",
        "                            truncation=True, \n",
        "                            padding=True)\n",
        "test_encodings = tokenizer(list(df_test['txt_proc'].iloc[:60000].values),\n",
        "                           truncation=True, \n",
        "                           padding=True)"
      ],
      "execution_count": null,
      "outputs": []
    },
    {
      "cell_type": "code",
      "metadata": {
        "id": "zaaPKs2usQUf"
      },
      "source": [
        "train_dataset = tf.data.Dataset.from_tensor_slices((dict(train_encodings),\n",
        "                                    list(df_train['target'].iloc[:100000].values)))\n",
        "test_dataset = tf.data.Dataset.from_tensor_slices((dict(test_encodings),\n",
        "                                    list(df_test['target'].iloc[:60000].values)))"
      ],
      "execution_count": null,
      "outputs": []
    },
    {
      "cell_type": "code",
      "metadata": {
        "colab": {
          "base_uri": "https://localhost:8080/"
        },
        "id": "u6jZbOmJ9Rm6",
        "outputId": "f4a04341-7d6e-4204-b087-f35ed2ad9c55"
      },
      "source": [
        "model = TFDistilBertForSequenceClassification.from_pretrained('distilbert-base-uncased')"
      ],
      "execution_count": null,
      "outputs": [
        {
          "output_type": "stream",
          "text": [
            "Some layers from the model checkpoint at distilbert-base-uncased were not used when initializing TFDistilBertForSequenceClassification: ['vocab_layer_norm', 'activation_13', 'vocab_transform', 'vocab_projector']\n",
            "- This IS expected if you are initializing TFDistilBertForSequenceClassification from the checkpoint of a model trained on another task or with another architecture (e.g. initializing a BertForSequenceClassification model from a BertForPreTraining model).\n",
            "- This IS NOT expected if you are initializing TFDistilBertForSequenceClassification from the checkpoint of a model that you expect to be exactly identical (initializing a BertForSequenceClassification model from a BertForSequenceClassification model).\n",
            "Some layers of TFDistilBertForSequenceClassification were not initialized from the model checkpoint at distilbert-base-uncased and are newly initialized: ['classifier', 'dropout_39', 'pre_classifier']\n",
            "You should probably TRAIN this model on a down-stream task to be able to use it for predictions and inference.\n"
          ],
          "name": "stderr"
        }
      ]
    },
    {
      "cell_type": "code",
      "metadata": {
        "colab": {
          "base_uri": "https://localhost:8080/"
        },
        "id": "uU-SRCnzsdQ8",
        "outputId": "918a2546-ac2c-4bfc-cdd9-34ae5cc6ec42"
      },
      "source": [
        "#chose the optimizer\n",
        "optimizerr = tf.keras.optimizers.Adam(learning_rate=5e-5)\n",
        "#define the loss function \n",
        "losss = tf.keras.losses.SparseCategoricalCrossentropy(from_logits=True)\n",
        "#build the model\n",
        "model.compile(optimizer=optimizerr,\n",
        "              loss=losss,\n",
        "              metrics=['accuracy'])\n",
        "# train the model \n",
        "model.fit(train_dataset.shuffle(len(df_train['txt_proc'].iloc[:100000].values)).batch(10),\n",
        "          epochs=2,\n",
        "          batch_size=32)"
      ],
      "execution_count": null,
      "outputs": [
        {
          "output_type": "stream",
          "text": [
            "Epoch 1/2\n",
            "WARNING:tensorflow:The parameters `output_attentions`, `output_hidden_states` and `use_cache` cannot be updated when calling a model.They have to be set to True/False in the config object (i.e.: `config=XConfig.from_pretrained('name', output_attentions=True)`).\n",
            "WARNING:tensorflow:The parameter `return_dict` cannot be set in graph mode and will always be set to `True`.\n",
            "WARNING:tensorflow:The parameters `output_attentions`, `output_hidden_states` and `use_cache` cannot be updated when calling a model.They have to be set to True/False in the config object (i.e.: `config=XConfig.from_pretrained('name', output_attentions=True)`).\n",
            "WARNING:tensorflow:The parameter `return_dict` cannot be set in graph mode and will always be set to `True`.\n",
            "10000/10000 [==============================] - 12854s 1s/step - loss: 0.5648 - accuracy: 0.7023\n",
            "Epoch 2/2\n",
            " 1943/10000 [====>.........................] - ETA: 2:52:32 - loss: 0.4739 - accuracy: 0.7819"
          ],
          "name": "stdout"
        }
      ]
    },
    {
      "cell_type": "code",
      "metadata": {
        "id": "wh1oX4pxswg3"
      },
      "source": [
        "# model evaluation on the test \n",
        "model.evaluate(test_dataset.shuffle(len(df_test['txt_proc'].iloc[:60000].values)).batch(10), \n",
        "               return_dict=True, \n",
        "               batch_size=32)"
      ],
      "execution_count": null,
      "outputs": []
    },
    {
      "cell_type": "code",
      "metadata": {
        "id": "alAnkuMjHgTv"
      },
      "source": [
        "twitter_labelled_dta = []\n",
        "with open('/content/drive/MyDrive/Colab Notebooks/twitter_labelled.json') as json_file:\n",
        "    tw_data = json.load(json_file)\n",
        "    for t in tw_data:\n",
        "        twitter_labelled_dta.append([t['text'], t['sentiment']])\n",
        "df_twitter_labelled = pd.DataFrame(data=twitter_labelled_dta,columns=['text', 'target'])\n",
        "df_twitter_labelled['text_proc'] = df_twitter_labelled['text'].apply(text_preprocessing)"
      ],
      "execution_count": null,
      "outputs": []
    },
    {
      "cell_type": "code",
      "metadata": {
        "id": "f9OBWIFNSw5Q"
      },
      "source": [
        "df_train.head()"
      ],
      "execution_count": null,
      "outputs": []
    },
    {
      "cell_type": "code",
      "metadata": {
        "id": "U3u1ZGWySgzE"
      },
      "source": [
        "df_twitter_labelled_1 = df_twitter_labelled[df_twitter_labelled['target'] != 0]\n",
        "df_twitter_labelled_1['target_1'] = df_twitter_labelled_1['target'].apply(lambda t: 0 if t == -1 else 1)"
      ],
      "execution_count": null,
      "outputs": []
    },
    {
      "cell_type": "code",
      "metadata": {
        "id": "ISPS3t5xJDK8"
      },
      "source": [
        "test_encodings_labelled_twitter = tokenizer(list(df_twitter_labelled_1['text_proc'].values),\n",
        "                           truncation=True, \n",
        "                           padding=True)\n",
        "\n",
        "test_dataset_labelled_twitter = tf.data.Dataset.from_tensor_slices((dict(test_encodings_labelled_twitter),\n",
        "                                    list(df_twitter_labelled_1['target_1'].values)))"
      ],
      "execution_count": null,
      "outputs": []
    },
    {
      "cell_type": "code",
      "metadata": {
        "id": "MaYr26Q7JUD1"
      },
      "source": [
        "# model evaluation on the test \n",
        "model.evaluate(test_dataset_labelled_twitter.shuffle(len(df_twitter_labelled['text_proc'].values)).batch(10), \n",
        "               return_dict=True, \n",
        "               batch_size=32)"
      ],
      "execution_count": null,
      "outputs": []
    },
    {
      "cell_type": "code",
      "metadata": {
        "colab": {
          "base_uri": "https://localhost:8080/"
        },
        "id": "2D-N6q-EJ18h",
        "outputId": "1694e65f-ffac-403f-df47-f4d8d95de50c"
      },
      "source": [
        "reddit_labelled_dta = []\n",
        "with open('/content/drive/MyDrive/Colab Notebooks/reddit_labelled.json') as json_file:\n",
        "    tw_data = json.load(json_file)\n",
        "    for t in tw_data:\n",
        "        reddit_labelled_dta.append([t['text'], t['sentiment']])\n",
        "df_reddit_labelled = pd.DataFrame(data=reddit_labelled_dta,columns=['text', 'target'])\n",
        "df_reddit_labelled['text_proc'] = df_reddit_labelled['text'].apply(text_preprocessing)\n",
        "df_reddit_labelled_1 = df_reddit_labelled[df_reddit_labelled['target'] != 0]\n",
        "df_reddit_labelled_1['target_1'] = df_reddit_labelled_1['target'].apply(lambda t: 0 if t == -1 else 1)\n",
        "test_encodings_labelled_reddit = tokenizer(list(df_reddit_labelled_1['text'].values),\n",
        "                           truncation=True, \n",
        "                           padding=True)\n",
        "\n",
        "test_dataset_labelled_reddit = tf.data.Dataset.from_tensor_slices((dict(test_encodings_labelled_reddit),\n",
        "                                    list(df_reddit_labelled_1['target_1'].values)))\n",
        "\n",
        "# model evaluation on the test \n",
        "model.evaluate(test_dataset_labelled_reddit.shuffle(len(df_reddit_labelled_1['text_proc'].values)).batch(10), \n",
        "               return_dict=True, \n",
        "               batch_size=32)"
      ],
      "execution_count": null,
      "outputs": [
        {
          "output_type": "stream",
          "text": [
            "/usr/local/lib/python3.7/dist-packages/ipykernel_launcher.py:9: SettingWithCopyWarning: \n",
            "A value is trying to be set on a copy of a slice from a DataFrame.\n",
            "Try using .loc[row_indexer,col_indexer] = value instead\n",
            "\n",
            "See the caveats in the documentation: https://pandas.pydata.org/pandas-docs/stable/user_guide/indexing.html#returning-a-view-versus-a-copy\n",
            "  if __name__ == '__main__':\n"
          ],
          "name": "stderr"
        },
        {
          "output_type": "stream",
          "text": [
            "96/96 [==============================] - 326s 3s/step - loss: 0.5167 - accuracy: 0.7294\n"
          ],
          "name": "stdout"
        },
        {
          "output_type": "execute_result",
          "data": {
            "text/plain": [
              "{'accuracy': 0.7293626070022583, 'loss': 0.5167216658592224}"
            ]
          },
          "metadata": {
            "tags": []
          },
          "execution_count": 57
        }
      ]
    },
    {
      "cell_type": "code",
      "metadata": {
        "colab": {
          "base_uri": "https://localhost:8080/"
        },
        "id": "4yLFV2ZASeRE",
        "outputId": "bffbd788-8265-4f10-8cf5-b84594615da0"
      },
      "source": [
        "instagram_labelled_dta = []\n",
        "with open('/content/drive/MyDrive/Colab Notebooks/instagram_labelled.json') as json_file:\n",
        "    tw_data = json.load(json_file)\n",
        "    for t in tw_data:\n",
        "        instagram_labelled_dta.append([t['text'], t['sentiment']])\n",
        "df_instagram_labelled = pd.DataFrame(data=instagram_labelled_dta,columns=['text', 'target'])\n",
        "df_instagram_labelled['text_proc'] = df_instagram_labelled['text'].apply(text_preprocessing)\n",
        "df_instagram_labelled_1 = df_instagram_labelled[df_instagram_labelled['target'] != 0]\n",
        "df_instagram_labelled_1['target_1'] = df_instagram_labelled_1['target'].apply(lambda t: 0 if t == -1 else 1)\n",
        "test_encodings_labelled_instagram = tokenizer(list(df_instagram_labelled_1['text'].values),\n",
        "                           truncation=True, \n",
        "                           padding=True)\n",
        "\n",
        "test_dataset_labelled_instagram = tf.data.Dataset.from_tensor_slices((dict(test_encodings_labelled_instagram),\n",
        "                                    list(df_instagram_labelled_1['target_1'].values)))\n",
        "\n",
        "# model evaluation on the test \n",
        "model.evaluate(test_dataset_labelled_instagram.shuffle(len(df_instagram_labelled_1['text_proc'].values)).batch(10), \n",
        "               return_dict=True, \n",
        "               batch_size=32)"
      ],
      "execution_count": null,
      "outputs": [
        {
          "output_type": "stream",
          "text": [
            "/usr/local/lib/python3.7/dist-packages/ipykernel_launcher.py:9: SettingWithCopyWarning: \n",
            "A value is trying to be set on a copy of a slice from a DataFrame.\n",
            "Try using .loc[row_indexer,col_indexer] = value instead\n",
            "\n",
            "See the caveats in the documentation: https://pandas.pydata.org/pandas-docs/stable/user_guide/indexing.html#returning-a-view-versus-a-copy\n",
            "  if __name__ == '__main__':\n"
          ],
          "name": "stderr"
        },
        {
          "output_type": "stream",
          "text": [
            "81/81 [==============================] - 246s 3s/step - loss: 0.5688 - accuracy: 0.7198\n"
          ],
          "name": "stdout"
        },
        {
          "output_type": "execute_result",
          "data": {
            "text/plain": [
              "{'accuracy': 0.719753086566925, 'loss': 0.5687882304191589}"
            ]
          },
          "metadata": {
            "tags": []
          },
          "execution_count": 58
        }
      ]
    },
    {
      "cell_type": "code",
      "metadata": {
        "colab": {
          "base_uri": "https://localhost:8080/"
        },
        "id": "2Z4d7k6aYof1",
        "outputId": "b5ad1367-f703-4b10-ec48-7f0c351d758c"
      },
      "source": [
        "tiktok_labelled_dta = []\n",
        "with open('/content/drive/MyDrive/Colab Notebooks/tiktok_labelled.json') as json_file:\n",
        "    tw_data = json.load(json_file)\n",
        "    for t in tw_data:\n",
        "        tiktok_labelled_dta.append([t['text'], t['sentiment']])\n",
        "df_tiktok_labelled = pd.DataFrame(data=tiktok_labelled_dta,columns=['text', 'target'])\n",
        "df_tiktok_labelled['text_proc'] = df_tiktok_labelled['text'].apply(text_preprocessing)\n",
        "df_tiktok_labelled_1 = df_tiktok_labelled[df_tiktok_labelled['target'] != 0]\n",
        "df_tiktok_labelled_1['target_1'] = df_tiktok_labelled_1['target'].apply(lambda t: 0 if t == -1 else 1)\n",
        "test_encodings_labelled_tiktok = tokenizer(list(df_tiktok_labelled_1['text'].values),\n",
        "                           truncation=True, \n",
        "                           padding=True)\n",
        "\n",
        "test_dataset_labelled_tiktok = tf.data.Dataset.from_tensor_slices((dict(test_encodings_labelled_tiktok),\n",
        "                                    list(df_tiktok_labelled_1['target_1'].values)))\n",
        "\n",
        "# model evaluation on the test \n",
        "model.evaluate(test_dataset_labelled_tiktok.shuffle(len(df_tiktok_labelled_1['text_proc'].values)).batch(10), \n",
        "               return_dict=True, \n",
        "               batch_size=32)"
      ],
      "execution_count": null,
      "outputs": [
        {
          "output_type": "stream",
          "text": [
            "/usr/local/lib/python3.7/dist-packages/ipykernel_launcher.py:9: SettingWithCopyWarning: \n",
            "A value is trying to be set on a copy of a slice from a DataFrame.\n",
            "Try using .loc[row_indexer,col_indexer] = value instead\n",
            "\n",
            "See the caveats in the documentation: https://pandas.pydata.org/pandas-docs/stable/user_guide/indexing.html#returning-a-view-versus-a-copy\n",
            "  if __name__ == '__main__':\n"
          ],
          "name": "stderr"
        },
        {
          "output_type": "stream",
          "text": [
            "65/65 [==============================] - 41s 635ms/step - loss: 0.4870 - accuracy: 0.7788\n"
          ],
          "name": "stdout"
        },
        {
          "output_type": "execute_result",
          "data": {
            "text/plain": [
              "{'accuracy': 0.7788162231445312, 'loss': 0.4869772791862488}"
            ]
          },
          "metadata": {
            "tags": []
          },
          "execution_count": 59
        }
      ]
    },
    {
      "cell_type": "code",
      "metadata": {
        "id": "wtNJT6CtqVJe"
      },
      "source": [
        "!nvidia-smi"
      ],
      "execution_count": null,
      "outputs": []
    }
  ]
}